{
  "nbformat": 4,
  "nbformat_minor": 0,
  "metadata": {
    "colab": {
      "provenance": [],
      "include_colab_link": true
    },
    "kernelspec": {
      "name": "python3",
      "display_name": "Python 3"
    },
    "language_info": {
      "name": "python"
    }
  },
  "cells": [
    {
      "cell_type": "markdown",
      "metadata": {
        "id": "view-in-github",
        "colab_type": "text"
      },
      "source": [
        "<a href=\"https://colab.research.google.com/github/Anacezegarra/programa-python/blob/main/%5B1%5D_Progama_Python_UTEC_Sesion01.ipynb\" target=\"_parent\"><img src=\"https://colab.research.google.com/assets/colab-badge.svg\" alt=\"Open In Colab\"/></a>"
      ]
    },
    {
      "cell_type": "markdown",
      "source": [
        "## [1] Ejemplos de resutados en Python (listas)"
      ],
      "metadata": {
        "id": "RC5ssv_RyXXl"
      }
    },
    {
      "cell_type": "markdown",
      "source": [
        "### [1.1] De expresiones regulares"
      ],
      "metadata": {
        "id": "m8U92nipzNEz"
      }
    },
    {
      "cell_type": "code",
      "execution_count": null,
      "metadata": {
        "id": "y2j3ZkyJxfTf",
        "outputId": "86df71ad-26c5-4413-cf62-eab64884fb88",
        "colab": {
          "base_uri": "https://localhost:8080/"
        }
      },
      "outputs": [
        {
          "output_type": "stream",
          "name": "stdout",
          "text": [
            "['david@example.com', 'ana123@gmail.com']\n"
          ]
        }
      ],
      "source": [
        "import re\n",
        "\n",
        "texto = \"Mi correo es david@example.com y el de Ana es ana123@gmail.com\"\n",
        "correos = re.findall(r'\\S+@\\S+', texto)\n",
        "print(correos)"
      ]
    },
    {
      "cell_type": "code",
      "source": [
        "import re\n",
        "\n",
        "texto = \"Mi correo es david@example.com y el de Ana es ana123@gmail.com\"\n",
        "correos = re.findall(r'\\S+@\\S+', texto)\n",
        "print(correos)"
      ],
      "metadata": {
        "id": "Xnp1tWg6J3Kx"
      },
      "execution_count": null,
      "outputs": []
    },
    {
      "cell_type": "code",
      "source": [
        "type(correos)"
      ],
      "metadata": {
        "id": "E-JxjBuwyavM",
        "outputId": "102758d2-1f10-4bdd-ea7c-d85e315fed8e",
        "colab": {
          "base_uri": "https://localhost:8080/"
        }
      },
      "execution_count": null,
      "outputs": [
        {
          "output_type": "execute_result",
          "data": {
            "text/plain": [
              "list"
            ]
          },
          "metadata": {},
          "execution_count": 2
        }
      ]
    },
    {
      "cell_type": "markdown",
      "source": [
        "### [1.2] Del uso de librerías"
      ],
      "metadata": {
        "id": "emDsY1i0z-Ej"
      }
    },
    {
      "cell_type": "code",
      "source": [
        "import sys\n",
        "\n",
        "sys.path"
      ],
      "metadata": {
        "id": "p6yeYDvb0Lr7",
        "outputId": "ce4155e1-55ae-4ca3-c7ac-ba0821d9f07c",
        "colab": {
          "base_uri": "https://localhost:8080/"
        }
      },
      "execution_count": null,
      "outputs": [
        {
          "output_type": "execute_result",
          "data": {
            "text/plain": [
              "['/content',\n",
              " '/env/python',\n",
              " '/usr/lib/python311.zip',\n",
              " '/usr/lib/python3.11',\n",
              " '/usr/lib/python3.11/lib-dynload',\n",
              " '',\n",
              " '/usr/local/lib/python3.11/dist-packages',\n",
              " '/usr/lib/python3/dist-packages',\n",
              " '/usr/local/lib/python3.11/dist-packages/IPython/extensions',\n",
              " '/usr/local/lib/python3.11/dist-packages/setuptools/_vendor',\n",
              " '/root/.ipython']"
            ]
          },
          "metadata": {},
          "execution_count": 3
        }
      ]
    },
    {
      "cell_type": "code",
      "source": [
        "type(sys.path)"
      ],
      "metadata": {
        "id": "3QgxX7400Tod",
        "outputId": "3df88291-bb3b-4cd9-a547-a89927270be1",
        "colab": {
          "base_uri": "https://localhost:8080/"
        }
      },
      "execution_count": null,
      "outputs": [
        {
          "output_type": "execute_result",
          "data": {
            "text/plain": [
              "list"
            ]
          },
          "metadata": {},
          "execution_count": 4
        }
      ]
    },
    {
      "cell_type": "markdown",
      "source": [
        "### [1.3] De Dataframes"
      ],
      "metadata": {
        "id": "SrQhILEo0bwm"
      }
    },
    {
      "cell_type": "code",
      "source": [
        "import pandas as pd\n",
        "\n",
        "df = pd.read_csv(\"/content/clientes.csv\", sep=\";\")\n",
        "nombres = df.columns.tolist()\n",
        "print(nombres)"
      ],
      "metadata": {
        "id": "wvk_SxO8zEaK"
      },
      "execution_count": null,
      "outputs": []
    },
    {
      "cell_type": "code",
      "source": [
        "type(nombres)"
      ],
      "metadata": {
        "id": "m77tovvY0sQC"
      },
      "execution_count": null,
      "outputs": []
    },
    {
      "cell_type": "markdown",
      "source": [
        "### [1.3] De archivos de texto"
      ],
      "metadata": {
        "id": "ZmHzYEI91xj3"
      }
    },
    {
      "cell_type": "code",
      "source": [
        "import csv\n",
        "\n",
        "with open(\"/content/clientes.csv\", newline='') as archivo:\n",
        "    lector = csv.reader(archivo, delimiter=';')\n",
        "    filas = list(lector)\n",
        "    print(filas)  # Lista de listas (filas del archivo CSV)\n"
      ],
      "metadata": {
        "id": "Sp2JIB8x1Gp0",
        "outputId": "aa882c06-b702-4b86-f7b2-8b8bef6f1d44",
        "colab": {
          "base_uri": "https://localhost:8080/"
        }
      },
      "execution_count": null,
      "outputs": [
        {
          "output_type": "stream",
          "name": "stdout",
          "text": [
            "[['ID', 'EDAD', 'INGRESOS', 'RIESGO', 'LINEA_TC'], ['123', '36', '1348', 'A', '49924'], ['234', '52', '9479', 'A', '28454'], ['345', '60', '7511', 'B', '14250'], ['456', '40', '7992', 'C', '32064'], ['567', '58', '2675', 'C', '1485'], ['678', '47', '7086', 'D', '29157'], ['789', '31', '4704', 'E', '14945'], ['999', '42', '6245', 'E', '8798']]\n"
          ]
        }
      ]
    },
    {
      "cell_type": "markdown",
      "source": [
        "## [2] Crear una lista"
      ],
      "metadata": {
        "id": "irKBCMSW02eJ"
      }
    },
    {
      "cell_type": "markdown",
      "source": [
        "### Actividad N001"
      ],
      "metadata": {
        "id": "--8g9GOM463B"
      }
    },
    {
      "cell_type": "code",
      "source": [
        "lugares = ['macchupichu','punta sal','pastoruri','laguna sauce','huacachina']"
      ],
      "metadata": {
        "id": "vnmUFQc_0xKy"
      },
      "execution_count": 13,
      "outputs": []
    },
    {
      "cell_type": "code",
      "source": [
        "print(f\"La lista de mis lugares favoritos es \\n {lugares}\")"
      ],
      "metadata": {
        "id": "EwmY7UZh21hv",
        "colab": {
          "base_uri": "https://localhost:8080/"
        },
        "outputId": "b7242659-633e-418b-efae-903326005a06"
      },
      "execution_count": 16,
      "outputs": [
        {
          "output_type": "stream",
          "name": "stdout",
          "text": [
            "La lista de mis lugares favoritos es \n",
            " ['macchupichu', 'punta sal', 'pastoruri', 'laguna sauce', 'huacachina']\n"
          ]
        }
      ]
    },
    {
      "cell_type": "code",
      "source": [
        "print(f\"La lista lugares contiene \\n {lugares}\")\n",
        "print(f\"El tercer elemento de la lista es {lugares[4]}\")"
      ],
      "metadata": {
        "colab": {
          "base_uri": "https://localhost:8080/"
        },
        "id": "zoFF3hs7Q7Eo",
        "outputId": "57130568-2374-4cd8-896b-4274e15bd128"
      },
      "execution_count": 19,
      "outputs": [
        {
          "output_type": "stream",
          "name": "stdout",
          "text": [
            "La lista lugares contiene \n",
            " ['macchupichu', 'punta sal', 'pastoruri', 'laguna sauce', 'huacachina']\n",
            "El tercer elemento de la lista es huacachina\n"
          ]
        }
      ]
    },
    {
      "cell_type": "markdown",
      "source": [
        "## [3] Tipos de listas"
      ],
      "metadata": {
        "id": "wQ0it4O23BVX"
      }
    },
    {
      "cell_type": "markdown",
      "source": [
        "### Actividad N002"
      ],
      "metadata": {
        "id": "mJ__gEzN5A8u"
      }
    },
    {
      "cell_type": "code",
      "source": [
        "nombre = 'david'\n",
        "apellidoPaterno = 'allende'\n",
        "profesion = 'estadístico'\n",
        "edad = 37\n",
        "centroLabores = 'misd'\n",
        "aniosExperiencia = 13\n",
        "\n",
        "info_personal = [nombre, apellidoPaterno, profesion, edad, centroLabores, aniosExperiencia]"
      ],
      "metadata": {
        "id": "GaG9FW5Y27RN"
      },
      "execution_count": null,
      "outputs": []
    },
    {
      "cell_type": "code",
      "source": [
        "print(f\"La lista info_personal contiene \\n {info_personal}\")"
      ],
      "metadata": {
        "id": "aK6OVxAI3oUN",
        "outputId": "0163cb30-62c5-45e1-a850-c08dc8b9bc5f",
        "colab": {
          "base_uri": "https://localhost:8080/"
        }
      },
      "execution_count": null,
      "outputs": [
        {
          "output_type": "stream",
          "name": "stdout",
          "text": [
            "La lista info_personal contiene \n",
            " ['david', 'allende', 'estadístico', 37, 'misd', 13]\n"
          ]
        }
      ]
    },
    {
      "cell_type": "markdown",
      "source": [
        "## [4] Acceder a los elementos de una lista"
      ],
      "metadata": {
        "id": "7Bw-DDlF31UD"
      }
    },
    {
      "cell_type": "code",
      "source": [
        "materias = ['álgebra','aritmética','razonamiento verbal','trigonometría','geometría']"
      ],
      "metadata": {
        "id": "WFYgRar93v2D"
      },
      "execution_count": null,
      "outputs": []
    },
    {
      "cell_type": "code",
      "source": [
        "print(f\"La lista materias contiene \\n {materias}\")\n",
        "print(f\"El segundo elemento de la lista es {materias[1]}\")"
      ],
      "metadata": {
        "id": "lTC_xydf4VfA",
        "outputId": "883935a6-fe70-4e1f-d15b-c728e5ba2781",
        "colab": {
          "base_uri": "https://localhost:8080/"
        }
      },
      "execution_count": null,
      "outputs": [
        {
          "output_type": "stream",
          "name": "stdout",
          "text": [
            "La lista materias contiene \n",
            " ['álgebra', 'aritmética', 'razonamiento verbal', 'trigonometría', 'geometría']\n",
            "El segundo elemento de la lista es aritmética\n"
          ]
        }
      ]
    },
    {
      "cell_type": "code",
      "source": [
        "print(f\"La lista materias contiene \\n {materias}\")\n",
        "print(f\"El segundo elemento de la lista es {materias[0]}\")"
      ],
      "metadata": {
        "id": "u_XXlJIMQdro",
        "outputId": "ed7c3c66-97eb-4dc9-f8b7-e4859c7a8aa8",
        "colab": {
          "base_uri": "https://localhost:8080/"
        }
      },
      "execution_count": null,
      "outputs": [
        {
          "output_type": "stream",
          "name": "stdout",
          "text": [
            "La lista materias contiene \n",
            " ['álgebra', 'aritmética', 'razonamiento verbal', 'trigonometría', 'geometría']\n",
            "El segundo elemento de la lista es álgebra\n"
          ]
        }
      ]
    },
    {
      "cell_type": "markdown",
      "source": [
        "### Actividad N003"
      ],
      "metadata": {
        "id": "q0AS9Dqx4wN2"
      }
    },
    {
      "cell_type": "code",
      "source": [
        "## SOLUCIÓN ACTIVIDAD N003\n"
      ],
      "metadata": {
        "id": "aFI0M3XO4oSb"
      },
      "execution_count": null,
      "outputs": []
    },
    {
      "cell_type": "code",
      "source": [
        "print(f\"La lista lugares: \\n {lugares}\")\n",
        "print(f\"El primer elemento de la lista lugares es {lugares[0]}\")\n",
        "print(f\"El primer elemento de la lista lugares (en mayúsculas) es {lugares[0].upper()}\")"
      ],
      "metadata": {
        "id": "-2v5LC1A5RKV",
        "colab": {
          "base_uri": "https://localhost:8080/"
        },
        "outputId": "bebd18f0-88cc-48c1-db43-db7b56cec2a2"
      },
      "execution_count": 20,
      "outputs": [
        {
          "output_type": "stream",
          "name": "stdout",
          "text": [
            "La lista lugares: \n",
            " ['macchupichu', 'punta sal', 'pastoruri', 'laguna sauce', 'huacachina']\n",
            "El primer elemento de la lista lugares es macchupichu\n",
            "El primer elemento de la lista lugares (en mayúsculas) es MACCHUPICHU\n"
          ]
        }
      ]
    },
    {
      "cell_type": "code",
      "source": [
        "print(f\"El cuarto elemento de la lista es {lugares[4]}\")"
      ],
      "metadata": {
        "colab": {
          "base_uri": "https://localhost:8080/"
        },
        "id": "drASVHBySCwY",
        "outputId": "d73d7350-0a27-4bc7-b2cf-9844688b10f4"
      },
      "execution_count": 21,
      "outputs": [
        {
          "output_type": "stream",
          "name": "stdout",
          "text": [
            "El cuarto elemento de la lista es huacachina\n"
          ]
        }
      ]
    },
    {
      "cell_type": "markdown",
      "source": [
        "### Actividad N004"
      ],
      "metadata": {
        "id": "oxmJ79pa57qM"
      }
    },
    {
      "cell_type": "code",
      "source": [
        "## SOLUCIÓN ACTIVIDAD N004\n"
      ],
      "metadata": {
        "id": "CeGQrfyY5frQ"
      },
      "execution_count": null,
      "outputs": []
    },
    {
      "cell_type": "code",
      "source": [
        "print(f\"La lista materias contiene \\n{materias}\")\n",
        "print(f\"El último elemento de la lista es {materias[-1]}\")"
      ],
      "metadata": {
        "id": "l6kaEYDr6Sn_"
      },
      "execution_count": null,
      "outputs": []
    },
    {
      "cell_type": "code",
      "source": [
        "info_personal = ['david', 'allende', 'estadístico', 37, 'misd', 13]"
      ],
      "metadata": {
        "id": "yrlAAuX3TLNV"
      },
      "execution_count": 22,
      "outputs": []
    },
    {
      "cell_type": "code",
      "source": [
        "print(f\"Hola me llamo {info_personal[0].capitalize()} {info_personal[1].capitalize()} soy {info_personal[2].capitalize()} tengo {info_personal[3]} años, trabajo en la empresa {info_personal[4]} y tengo {info_personal[5]} años de experiencia\")"
      ],
      "metadata": {
        "colab": {
          "base_uri": "https://localhost:8080/"
        },
        "id": "DCZ9GYy6UGG4",
        "outputId": "010943cf-1911-47e5-a562-b5bb8d285e1e"
      },
      "execution_count": 28,
      "outputs": [
        {
          "output_type": "stream",
          "name": "stdout",
          "text": [
            "Hola me llamo David Allende soy Estadístico tengo 37 años, trabajo en la empresa misd y tengo 13 años de experiencia\n"
          ]
        }
      ]
    },
    {
      "cell_type": "code",
      "source": [
        "marcas = ['adidas', 'nike', 'asics', 'puma', 'hoka' ]"
      ],
      "metadata": {
        "id": "mdxL3E7sYg1F"
      },
      "execution_count": 29,
      "outputs": []
    },
    {
      "cell_type": "code",
      "source": [
        "print(f\"Mi marca favorita de zapatillas de correr es {marcas[4].capitalize()}\")"
      ],
      "metadata": {
        "colab": {
          "base_uri": "https://localhost:8080/"
        },
        "id": "RLRBjXBVYut3",
        "outputId": "a1f34dc5-804d-4f09-c39a-1f2b97722535"
      },
      "execution_count": 34,
      "outputs": [
        {
          "output_type": "stream",
          "name": "stdout",
          "text": [
            "Mi marca favorita de zapatillas de correr es Hoka\n"
          ]
        }
      ]
    },
    {
      "cell_type": "code",
      "source": [
        "%whos"
      ],
      "metadata": {
        "colab": {
          "base_uri": "https://localhost:8080/"
        },
        "id": "W4RTofSMZs1z",
        "outputId": "d1b815de-7d5d-49fd-b933-d27ab695c404"
      },
      "execution_count": 35,
      "outputs": [
        {
          "output_type": "stream",
          "name": "stdout",
          "text": [
            "Variable           Type             Data/Info\n",
            "---------------------------------------------\n",
            "aniosExperiencia   int              13\n",
            "apellidoPaterno    str              allende\n",
            "archivo            TextIOWrapper    <_io.TextIOWrapper name='<...>ode='r' encoding='utf-8'>\n",
            "centroLabores      str              misd\n",
            "correos            list             n=2\n",
            "csv                module           <module 'csv' from '/usr/lib/python3.11/csv.py'>\n",
            "edad               int              37\n",
            "filas              list             n=9\n",
            "info_personal      list             n=6\n",
            "lector             reader           <_csv.reader object at 0x7f064df9b680>\n",
            "lugares            list             n=5\n",
            "marcas             list             n=5\n",
            "materias           list             n=5\n",
            "nombre             str              david\n",
            "profesion          str              estadístico\n",
            "re                 module           <module 're' from '/usr/l<...>thon3.11/re/__init__.py'>\n",
            "sys                module           <module 'sys' (built-in)>\n",
            "texto              str              Mi correo es david@exampl<...>e Ana es ana123@gmail.com\n"
          ]
        }
      ]
    },
    {
      "cell_type": "markdown",
      "source": [
        "### Actividad N005"
      ],
      "metadata": {
        "id": "gXt3UlLD6j1I"
      }
    },
    {
      "cell_type": "code",
      "source": [
        "## SOLUCIÓN ACTIVIDAD N005\n"
      ],
      "metadata": {
        "id": "Xw-NMtVe6aJ4"
      },
      "execution_count": null,
      "outputs": []
    },
    {
      "cell_type": "markdown",
      "source": [
        "## [5] Modificar los elementos de una lista"
      ],
      "metadata": {
        "id": "9vPV8Ya06s84"
      }
    },
    {
      "cell_type": "code",
      "source": [
        "print(f\"La lista original de materias es \\n{materias}\")\n",
        "materias[1] = 'filosofía'\n",
        "print(f\"La lista actualizada de materias es \\n{materias}\")"
      ],
      "metadata": {
        "id": "qeD97ZwE6n4m",
        "colab": {
          "base_uri": "https://localhost:8080/"
        },
        "outputId": "518b9dcd-bd49-49a1-8713-2c3af7808bba"
      },
      "execution_count": 36,
      "outputs": [
        {
          "output_type": "stream",
          "name": "stdout",
          "text": [
            "La lista original de materias es \n",
            "['álgebra', 'aritmética', 'razonamiento verbal', 'trigonometría', 'geometría']\n",
            "La lista actualizada de materias es \n",
            "['álgebra', 'filosofía', 'razonamiento verbal', 'trigonometría', 'geometría']\n"
          ]
        }
      ]
    },
    {
      "cell_type": "code",
      "source": [
        "print(f\"Hola me llamo {info_personal[0].capitalize()} {info_personal[1].capitalize()} soy {info_personal[2].capitalize()} tengo {info_personal[3]} años, trabajo en la empresa {info_personal[4]} y tengo {info_personal[5]} años de experiencia\")\n",
        "info_personal[4] = \"Google\"\n",
        "print(f\"Hola me llamo {info_personal[0].capitalize()} {info_personal[1].capitalize()} soy {info_personal[2].capitalize()} tengo {info_personal[3]} años, trabajo en la empresa {info_personal[4]} y tengo {info_personal[5]} años de experiencia\")"
      ],
      "metadata": {
        "colab": {
          "base_uri": "https://localhost:8080/"
        },
        "id": "VkXPxNktbR-H",
        "outputId": "da74cf9b-72d8-4ec8-9c5f-e2094bb78ade"
      },
      "execution_count": 44,
      "outputs": [
        {
          "output_type": "stream",
          "name": "stdout",
          "text": [
            "Hola me llamo David Allende soy Estadístico tengo 37 años, trabajo en la empresa Google y tengo 13 años de experiencia\n",
            "Hola me llamo David Allende soy Estadístico tengo 37 años, trabajo en la empresa Google y tengo 13 años de experiencia\n"
          ]
        }
      ]
    },
    {
      "cell_type": "code",
      "source": [
        "print(f\"La lista original es \\n{info_personal}\")\n",
        "info_personal[4] = 'Google'\n",
        "print(f\"La lista actualizada es \\n{info_personal}\")"
      ],
      "metadata": {
        "colab": {
          "base_uri": "https://localhost:8080/"
        },
        "id": "ZN5mDIGqbE_a",
        "outputId": "c3e598bb-5551-4a96-a7ef-0323a184c3ee"
      },
      "execution_count": 43,
      "outputs": [
        {
          "output_type": "stream",
          "name": "stdout",
          "text": [
            "La lista original es \n",
            "['david', 'allende', 'estadístico', 37, 'misd', 13]\n",
            "La lista actualizada es \n",
            "['david', 'allende', 'estadístico', 37, 'Google', 13]\n"
          ]
        }
      ]
    },
    {
      "cell_type": "markdown",
      "source": [
        "### Actividad N006"
      ],
      "metadata": {
        "id": "piyoQAzu7Pqv"
      }
    },
    {
      "cell_type": "code",
      "source": [
        "## SOLUCIÓN ACTIVIDAD N006\n"
      ],
      "metadata": {
        "id": "cW_FXD7G7JI_"
      },
      "execution_count": null,
      "outputs": []
    },
    {
      "cell_type": "markdown",
      "source": [
        "## [6] Añadir un elemento a una lista"
      ],
      "metadata": {
        "id": "nzRyoj8H7bMD"
      }
    },
    {
      "cell_type": "markdown",
      "source": [
        "### Método append"
      ],
      "metadata": {
        "id": "F5qgskxX79FW"
      }
    },
    {
      "cell_type": "code",
      "source": [
        "print(f\"La lista original es \\n{materias}\")\n",
        "materias.append('química')\n",
        "print(f\"La lista actualizada es \\n{materias}\")"
      ],
      "metadata": {
        "id": "5YeIR2kw7XTZ",
        "colab": {
          "base_uri": "https://localhost:8080/"
        },
        "outputId": "ba691f79-a99d-448f-c2d4-37ed13209794"
      },
      "execution_count": 45,
      "outputs": [
        {
          "output_type": "stream",
          "name": "stdout",
          "text": [
            "La lista original es \n",
            "['álgebra', 'filosofía', 'razonamiento verbal', 'trigonometría', 'geometría']\n",
            "La lista actualizada es \n",
            "['álgebra', 'filosofía', 'razonamiento verbal', 'trigonometría', 'geometría', 'química']\n"
          ]
        }
      ]
    },
    {
      "cell_type": "code",
      "source": [
        "#añadir un dato\n",
        "print(f\"La lista original es \\n{info_personal}\")\n",
        "info_personal.append('futbol')\n",
        "print(f\"La lista actualizada es \\n{info_personal}\")"
      ],
      "metadata": {
        "colab": {
          "base_uri": "https://localhost:8080/"
        },
        "id": "h9xI3ACVcEVB",
        "outputId": "0ec4c57b-db38-4c52-d218-6f71850a645a"
      },
      "execution_count": 47,
      "outputs": [
        {
          "output_type": "stream",
          "name": "stdout",
          "text": [
            "La lista original es \n",
            "['david', 'allende', 'estadístico', 37, 'Google', 13, 'Google']\n",
            "La lista actualizada es \n",
            "['david', 'allende', 'estadístico', 37, 'Google', 13, 'Google', 'futbol']\n"
          ]
        }
      ]
    },
    {
      "cell_type": "code",
      "source": [
        "#añadir un dato\n",
        "print(f\"La lista original es \\n{lugares}\")\n",
        "lugares.append('reserva de Paracas')\n",
        "print(f\"La lista actualizada es \\n{lugares}\")"
      ],
      "metadata": {
        "colab": {
          "base_uri": "https://localhost:8080/"
        },
        "id": "T1uNYxLYciwY",
        "outputId": "33e33846-7d6f-40da-b438-b7c9730ab0ed"
      },
      "execution_count": 50,
      "outputs": [
        {
          "output_type": "stream",
          "name": "stdout",
          "text": [
            "La lista original es \n",
            "['macchupichu', 'punta sal', 'pastoruri', 'laguna sauce', 'huacachina']\n",
            "La lista actualizada es \n",
            "['macchupichu', 'punta sal', 'pastoruri', 'laguna sauce', 'huacachina', 'reserva de Paracas']\n"
          ]
        }
      ]
    },
    {
      "cell_type": "code",
      "source": [
        "#añadir un dato\n",
        "print(f\"La lista original es \\n{materias}\")\n",
        "materias.insert(3,'fisica')\n",
        "print(f\"La lista actualizada es \\n{materias}\")"
      ],
      "metadata": {
        "colab": {
          "base_uri": "https://localhost:8080/"
        },
        "id": "CNWuFpNndkhm",
        "outputId": "aac6b6b6-ceb2-4032-96d4-7d27e5a07aef"
      },
      "execution_count": 52,
      "outputs": [
        {
          "output_type": "stream",
          "name": "stdout",
          "text": [
            "La lista original es \n",
            "['álgebra', 'filosofía', 'razonamiento verbal', 'fisica', 'trigonometría', 'geometría', 'química']\n",
            "La lista actualizada es \n",
            "['álgebra', 'filosofía', 'razonamiento verbal', 'fisica', 'fisica', 'trigonometría', 'geometría', 'química']\n"
          ]
        }
      ]
    },
    {
      "cell_type": "markdown",
      "source": [
        "### Actividad N007"
      ],
      "metadata": {
        "id": "uKnBn9RX7zoB"
      }
    },
    {
      "cell_type": "code",
      "source": [
        "## SOLUCIÓN ACTIVIDA N007\n"
      ],
      "metadata": {
        "id": "f25BvpPa7vSw"
      },
      "execution_count": null,
      "outputs": []
    },
    {
      "cell_type": "markdown",
      "source": [
        "### Método insert"
      ],
      "metadata": {
        "id": "Ejv_9b5g8CKs"
      }
    },
    {
      "cell_type": "code",
      "source": [
        "print(f\"La lista de materias es \\n{materias}\")\n",
        "materias.insert(3,'física')\n",
        "print(f\"La lista de materias actualizada es \\n{materias}\")"
      ],
      "metadata": {
        "id": "jC1p2XUZ73wB",
        "colab": {
          "base_uri": "https://localhost:8080/"
        },
        "outputId": "09125450-aab7-46d5-d3c2-72e598e6ef11"
      },
      "execution_count": 53,
      "outputs": [
        {
          "output_type": "stream",
          "name": "stdout",
          "text": [
            "La lista de materias es \n",
            "['álgebra', 'filosofía', 'razonamiento verbal', 'fisica', 'fisica', 'trigonometría', 'geometría', 'química']\n",
            "La lista de materias actualizada es \n",
            "['álgebra', 'filosofía', 'razonamiento verbal', 'física', 'fisica', 'fisica', 'trigonometría', 'geometría', 'química']\n"
          ]
        }
      ]
    },
    {
      "cell_type": "markdown",
      "source": [
        "### Actividad N008"
      ],
      "metadata": {
        "id": "DcgswlJf8ggw"
      }
    },
    {
      "cell_type": "code",
      "source": [
        "## SOLUCIÓN ACTIVIDAD N008\n",
        "print(f\"La lista de materias es \\n{info_personal}\")\n",
        "info_personal.insert(3,'La UNI')\n",
        "print(f\"La lista de materias actualizada es \\n{info_personal}\")"
      ],
      "metadata": {
        "id": "0xWkqsRR8azc",
        "colab": {
          "base_uri": "https://localhost:8080/"
        },
        "outputId": "b48b9233-dd2d-497e-efd7-a05e28d9e3e0"
      },
      "execution_count": 54,
      "outputs": [
        {
          "output_type": "stream",
          "name": "stdout",
          "text": [
            "La lista de materias es \n",
            "['david', 'allende', 'estadístico', 37, 'Google', 13, 'Google', 'futbol', 'reserva de Paracas', 'reserva de Paracas']\n",
            "La lista de materias actualizada es \n",
            "['david', 'allende', 'estadístico', 'La UNI', 37, 'Google', 13, 'Google', 'futbol', 'reserva de Paracas', 'reserva de Paracas']\n"
          ]
        }
      ]
    },
    {
      "cell_type": "markdown",
      "source": [
        "## [7] Remover los elementos de una lista"
      ],
      "metadata": {
        "id": "s2icJ_8C8scH"
      }
    },
    {
      "cell_type": "markdown",
      "source": [
        "### Método del"
      ],
      "metadata": {
        "id": "Oc8L61Ao9Vyt"
      }
    },
    {
      "cell_type": "code",
      "source": [
        "print(f\"La lista materias es \\n{materias}\")\n",
        "del materias[3]\n",
        "print(f\"La lista actualizada es \\n{materias}\")"
      ],
      "metadata": {
        "id": "1K-iK1NQ8kEf",
        "colab": {
          "base_uri": "https://localhost:8080/"
        },
        "outputId": "873d635f-02b1-499e-f77e-5ec299c81034"
      },
      "execution_count": 55,
      "outputs": [
        {
          "output_type": "stream",
          "name": "stdout",
          "text": [
            "La lista materias es \n",
            "['álgebra', 'filosofía', 'razonamiento verbal', 'física', 'fisica', 'fisica', 'trigonometría', 'geometría', 'química']\n",
            "La lista actualizada es \n",
            "['álgebra', 'filosofía', 'razonamiento verbal', 'fisica', 'fisica', 'trigonometría', 'geometría', 'química']\n"
          ]
        }
      ]
    },
    {
      "cell_type": "code",
      "source": [
        "print(f\"La lista materias es \\n{materias}\")\n",
        "del materias[3:5]\n",
        "print(f\"La lista actualizada es \\n{materias}\")"
      ],
      "metadata": {
        "colab": {
          "base_uri": "https://localhost:8080/"
        },
        "id": "A4YxlOjng3C5",
        "outputId": "988796f5-2ca7-405e-aa1e-976e7332653f"
      },
      "execution_count": 56,
      "outputs": [
        {
          "output_type": "stream",
          "name": "stdout",
          "text": [
            "La lista materias es \n",
            "['álgebra', 'filosofía', 'razonamiento verbal', 'fisica', 'fisica', 'trigonometría', 'geometría', 'química']\n",
            "La lista actualizada es \n",
            "['álgebra', 'filosofía', 'razonamiento verbal', 'trigonometría', 'geometría', 'química']\n"
          ]
        }
      ]
    },
    {
      "cell_type": "markdown",
      "source": [
        "### Actividad N009"
      ],
      "metadata": {
        "id": "VFggpdYt9MR4"
      }
    },
    {
      "cell_type": "code",
      "source": [
        "## SOLUCIÓN ACTIVIDAD N009\n",
        "print(f\"La lista materias es \\n{materias}\")\n",
        "exc2 = materias.pop(3)\n",
        "print(f\"La lista actualizada es \\n{materias}\")"
      ],
      "metadata": {
        "id": "2j90g_Ct9Itc",
        "colab": {
          "base_uri": "https://localhost:8080/"
        },
        "outputId": "45f5fc3b-2712-45a3-f1af-eeedf52134d7"
      },
      "execution_count": 58,
      "outputs": [
        {
          "output_type": "stream",
          "name": "stdout",
          "text": [
            "La lista materias es \n",
            "['álgebra', 'filosofía', 'razonamiento verbal', 'trigonometría', 'geometría', 'química']\n",
            "La lista actualizada es \n",
            "['álgebra', 'filosofía', 'razonamiento verbal', 'geometría', 'química']\n"
          ]
        }
      ]
    },
    {
      "cell_type": "code",
      "source": [
        "print(f\"La lista lugares es \\n{lugares}\")\n",
        "del lugares[2]\n",
        "print(f\"La lista actualizada es \\n{lugares}\")"
      ],
      "metadata": {
        "colab": {
          "base_uri": "https://localhost:8080/"
        },
        "id": "XTfaGwY1jb4T",
        "outputId": "6cfcd874-3d6c-4f85-dadf-5b17844e5dbe"
      },
      "execution_count": 60,
      "outputs": [
        {
          "output_type": "stream",
          "name": "stdout",
          "text": [
            "La lista lugares es \n",
            "['macchupichu', 'punta sal', 'pastoruri', 'laguna sauce', 'huacachina', 'reserva de Paracas']\n",
            "La lista actualizada es \n",
            "['macchupichu', 'punta sal', 'laguna sauce', 'huacachina', 'reserva de Paracas']\n"
          ]
        }
      ]
    },
    {
      "cell_type": "code",
      "source": [
        "print(f\"La lista lugares es \\n{lugares}\")\n",
        "el_el1 = lugares.pop (1)\n",
        "print(f\"El elemento eliminado \\n{el_el1}\")\n",
        "print(f\"La lista actualizada es \\n{lugares}\")"
      ],
      "metadata": {
        "colab": {
          "base_uri": "https://localhost:8080/"
        },
        "id": "DcNWGsk-kTab",
        "outputId": "a6395aeb-5d38-444b-99cb-117cabda008c"
      },
      "execution_count": 61,
      "outputs": [
        {
          "output_type": "stream",
          "name": "stdout",
          "text": [
            "La lista lugares es \n",
            "['macchupichu', 'punta sal', 'laguna sauce', 'huacachina', 'reserva de Paracas']\n",
            "El elemento eliminado \n",
            "punta sal\n",
            "La lista actualizada es \n",
            "['macchupichu', 'laguna sauce', 'huacachina', 'reserva de Paracas']\n"
          ]
        }
      ]
    },
    {
      "cell_type": "markdown",
      "source": [],
      "metadata": {
        "id": "itYsZtLr9a1y"
      }
    },
    {
      "cell_type": "markdown",
      "source": [
        "### Método pop"
      ],
      "metadata": {
        "id": "G_-05doA9ckW"
      }
    },
    {
      "cell_type": "code",
      "source": [
        "print(f\"La lista materias es \\n{materias}\")\n",
        "el_exc1 = materias.pop()\n",
        "print(f\"La lista materias actualizada es \\n{materias}\")"
      ],
      "metadata": {
        "id": "vzzIn2MP9QQ0",
        "colab": {
          "base_uri": "https://localhost:8080/"
        },
        "outputId": "43f2f97f-b57c-4e28-c567-68204defeba7"
      },
      "execution_count": 62,
      "outputs": [
        {
          "output_type": "stream",
          "name": "stdout",
          "text": [
            "La lista materias es \n",
            "['álgebra', 'filosofía', 'razonamiento verbal', 'química']\n",
            "La lista materias actualizada es \n",
            "['álgebra', 'filosofía', 'razonamiento verbal']\n"
          ]
        }
      ]
    },
    {
      "cell_type": "code",
      "source": [
        "print(f\"El elemento eliminado de la lista materias, ubicado al final de la lista es {el_exc1}\")"
      ],
      "metadata": {
        "id": "_dYro6si9qDD",
        "colab": {
          "base_uri": "https://localhost:8080/"
        },
        "outputId": "77de46cc-4bb5-4add-8b2a-d921b5fc417e"
      },
      "execution_count": 63,
      "outputs": [
        {
          "output_type": "stream",
          "name": "stdout",
          "text": [
            "El elemento eliminado de la lista materias, ubicado al final de la lista es química\n"
          ]
        }
      ]
    },
    {
      "cell_type": "code",
      "source": [
        "el_exc2 = materias.pop(3)\n",
        "print(f\"El elemento eliminado de la lista materias, ubicado en la cuarta posición es {el_exc2}\")\n",
        "print(f\"La lista materias actualizada es \\n{materias}\")"
      ],
      "metadata": {
        "id": "X-w9D9Cf9wsE",
        "colab": {
          "base_uri": "https://localhost:8080/",
          "height": 180
        },
        "outputId": "a6de46f3-b84c-408b-d07c-9dcdcabf642b"
      },
      "execution_count": 64,
      "outputs": [
        {
          "output_type": "error",
          "ename": "IndexError",
          "evalue": "pop index out of range",
          "traceback": [
            "\u001b[0;31m---------------------------------------------------------------------------\u001b[0m",
            "\u001b[0;31mIndexError\u001b[0m                                Traceback (most recent call last)",
            "\u001b[0;32m<ipython-input-64-722f796defa6>\u001b[0m in \u001b[0;36m<cell line: 0>\u001b[0;34m()\u001b[0m\n\u001b[0;32m----> 1\u001b[0;31m \u001b[0mel_exc2\u001b[0m \u001b[0;34m=\u001b[0m \u001b[0mmaterias\u001b[0m\u001b[0;34m.\u001b[0m\u001b[0mpop\u001b[0m\u001b[0;34m(\u001b[0m\u001b[0;36m3\u001b[0m\u001b[0;34m)\u001b[0m\u001b[0;34m\u001b[0m\u001b[0;34m\u001b[0m\u001b[0m\n\u001b[0m\u001b[1;32m      2\u001b[0m \u001b[0mprint\u001b[0m\u001b[0;34m(\u001b[0m\u001b[0;34mf\"El elemento eliminado de la lista materias, ubicado en la cuarta posición es {el_exc2}\"\u001b[0m\u001b[0;34m)\u001b[0m\u001b[0;34m\u001b[0m\u001b[0;34m\u001b[0m\u001b[0m\n\u001b[1;32m      3\u001b[0m \u001b[0mprint\u001b[0m\u001b[0;34m(\u001b[0m\u001b[0;34mf\"La lista materias actualizada es \\n{materias}\"\u001b[0m\u001b[0;34m)\u001b[0m\u001b[0;34m\u001b[0m\u001b[0;34m\u001b[0m\u001b[0m\n",
            "\u001b[0;31mIndexError\u001b[0m: pop index out of range"
          ]
        }
      ]
    },
    {
      "cell_type": "markdown",
      "source": [
        "### Actividad N010"
      ],
      "metadata": {
        "id": "11c8mjWM-N4m"
      }
    },
    {
      "cell_type": "code",
      "source": [
        "## SOLUCIÓN ACTIVIDAD N010\n"
      ],
      "metadata": {
        "id": "QhLPByTU-BPb"
      },
      "execution_count": null,
      "outputs": []
    },
    {
      "cell_type": "markdown",
      "source": [
        "### Método remove"
      ],
      "metadata": {
        "id": "GPviXjjh-WZr"
      }
    },
    {
      "cell_type": "code",
      "source": [
        "print(f\"La lista materias es \\n{materias}\")\n",
        "materias.remove('filosofía')\n",
        "print(f\"La lista materias actualizada es \\n{materias}\")"
      ],
      "metadata": {
        "id": "tAxqSlE0-SDt",
        "colab": {
          "base_uri": "https://localhost:8080/"
        },
        "outputId": "ecf1d711-eac0-4231-da3f-1bf0f861bd21"
      },
      "execution_count": 65,
      "outputs": [
        {
          "output_type": "stream",
          "name": "stdout",
          "text": [
            "La lista materias es \n",
            "['álgebra', 'filosofía', 'razonamiento verbal']\n",
            "La lista materias actualizada es \n",
            "['álgebra', 'razonamiento verbal']\n"
          ]
        }
      ]
    },
    {
      "cell_type": "markdown",
      "source": [
        "### Actividad N011"
      ],
      "metadata": {
        "id": "I7nsxzfd-oTV"
      }
    },
    {
      "cell_type": "code",
      "source": [
        "## SOLUCIÓN ACTIVIDAD N011\n"
      ],
      "metadata": {
        "id": "i3RyrzJw-kCr"
      },
      "execution_count": null,
      "outputs": []
    },
    {
      "cell_type": "markdown",
      "source": [
        "## [8] Ordenar los elementos de una lista"
      ],
      "metadata": {
        "id": "PMOmvQ1O-vz7"
      }
    },
    {
      "cell_type": "markdown",
      "source": [
        "### De manera permanente"
      ],
      "metadata": {
        "id": "2fdlt9Vc_weK"
      }
    },
    {
      "cell_type": "code",
      "source": [
        "print(f\"La lista materias es \\n{materias}\")\n",
        "materias.sort()\n",
        "print(f\"La lista materias actualizada es \\n{materias}\")\n"
      ],
      "metadata": {
        "id": "UCivu0jT-ryW"
      },
      "execution_count": null,
      "outputs": []
    },
    {
      "cell_type": "code",
      "source": [
        "print(f\"La lista lugares es \\n{lugares}\")\n",
        "lugares.sort(reverse=True)\n",
        "print(f\"La lista lugares actualizada es \\n{lugares}\")"
      ],
      "metadata": {
        "id": "rjkFon3L_Byz"
      },
      "execution_count": null,
      "outputs": []
    },
    {
      "cell_type": "markdown",
      "source": [
        "### Actividad N012"
      ],
      "metadata": {
        "id": "jJh7CDJO_s2r"
      }
    },
    {
      "cell_type": "code",
      "source": [
        "## SOLUCIÓN ACTIVIDAD N012\n"
      ],
      "metadata": {
        "id": "vvPtDflm_cNf"
      },
      "execution_count": null,
      "outputs": []
    },
    {
      "cell_type": "markdown",
      "source": [
        "### De manera temporal"
      ],
      "metadata": {
        "id": "gpQQQ2ZU_6tG"
      }
    },
    {
      "cell_type": "code",
      "source": [
        "print(f\"La lista lugares es \\n{lugares}\")\n",
        "print(f\"La lista lugares actualizada es \\n{sorted(lugares)}\")"
      ],
      "metadata": {
        "id": "8V88UcQL_5Qb"
      },
      "execution_count": null,
      "outputs": []
    },
    {
      "cell_type": "code",
      "source": [
        "print(f\"La lista lugares es \\n{lugares}\")\n",
        "print(f\"La lista lugares actualizada es \\n{sorted(lugares,reverse=True)}\")"
      ],
      "metadata": {
        "id": "NbIEj-qrAI5R"
      },
      "execution_count": null,
      "outputs": []
    },
    {
      "cell_type": "markdown",
      "source": [
        "### Actividad N013"
      ],
      "metadata": {
        "id": "rDQF6aidAYLm"
      }
    },
    {
      "cell_type": "code",
      "source": [
        "## SOLUCIÓN ACTIVIDAD N013\n"
      ],
      "metadata": {
        "id": "5gUbMvDKAQs2"
      },
      "execution_count": null,
      "outputs": []
    },
    {
      "cell_type": "markdown",
      "source": [
        "## [9] Invertir los elementos de una lista"
      ],
      "metadata": {
        "id": "TCzgVFc2Adgi"
      }
    },
    {
      "cell_type": "code",
      "source": [
        "print(f\"La lista materias es \\n{materias}\")\n",
        "materias.reverse()\n",
        "print(f\"La lista materias actualizada es \\n{materias}\")"
      ],
      "metadata": {
        "id": "VfMEiCyEAb4e"
      },
      "execution_count": null,
      "outputs": []
    },
    {
      "cell_type": "markdown",
      "source": [
        "### Actividad N014"
      ],
      "metadata": {
        "id": "BnpGEyXRAy9X"
      }
    },
    {
      "cell_type": "code",
      "source": [
        "## SOLUCIÓN ACTIVIDAD N014\n"
      ],
      "metadata": {
        "id": "alT3g_kjAu_F"
      },
      "execution_count": null,
      "outputs": []
    },
    {
      "cell_type": "markdown",
      "source": [
        "## [10] Cuantificar los elementos de una lista"
      ],
      "metadata": {
        "id": "sQVSPLHcA53H"
      }
    },
    {
      "cell_type": "code",
      "source": [
        "print(f\"La lista lugares es \\n{lugares}\")\n",
        "print(f\"La cantidad de elementos de la lista lugares es {len(lugares)}\")"
      ],
      "metadata": {
        "id": "yW0-j-EaA4E0"
      },
      "execution_count": null,
      "outputs": []
    },
    {
      "cell_type": "markdown",
      "source": [
        "### Actividad N015"
      ],
      "metadata": {
        "id": "roDrSGHjBI-x"
      }
    },
    {
      "cell_type": "code",
      "source": [
        "## SOLUCIÓN ACTIVIDAD N015\n"
      ],
      "metadata": {
        "id": "wXYtA8HzBG-6"
      },
      "execution_count": null,
      "outputs": []
    },
    {
      "cell_type": "code",
      "source": [],
      "metadata": {
        "id": "izy_t_MQBNny"
      },
      "execution_count": null,
      "outputs": []
    }
  ]
}