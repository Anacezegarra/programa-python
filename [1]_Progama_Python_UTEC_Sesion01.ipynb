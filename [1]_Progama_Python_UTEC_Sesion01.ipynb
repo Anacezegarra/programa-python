{
  "nbformat": 4,
  "nbformat_minor": 0,
  "metadata": {
    "colab": {
      "provenance": [],
      "include_colab_link": true
    },
    "kernelspec": {
      "name": "python3",
      "display_name": "Python 3"
    },
    "language_info": {
      "name": "python"
    }
  },
  "cells": [
    {
      "cell_type": "markdown",
      "metadata": {
        "id": "view-in-github",
        "colab_type": "text"
      },
      "source": [
        "<a href=\"https://colab.research.google.com/github/Anacezegarra/programa-python/blob/main/%5B1%5D_Progama_Python_UTEC_Sesion01.ipynb\" target=\"_parent\"><img src=\"https://colab.research.google.com/assets/colab-badge.svg\" alt=\"Open In Colab\"/></a>"
      ]
    },
    {
      "cell_type": "markdown",
      "source": [
        "## [1] Ejemplos de resutados en Python (listas)"
      ],
      "metadata": {
        "id": "RC5ssv_RyXXl"
      }
    },
    {
      "cell_type": "markdown",
      "source": [
        "### [1.1] De expresiones regulares"
      ],
      "metadata": {
        "id": "m8U92nipzNEz"
      }
    },
    {
      "cell_type": "code",
      "execution_count": 15,
      "metadata": {
        "id": "y2j3ZkyJxfTf",
        "outputId": "a01642ed-d909-47d1-905b-f776968ef443",
        "colab": {
          "base_uri": "https://localhost:8080/"
        }
      },
      "outputs": [
        {
          "output_type": "stream",
          "name": "stdout",
          "text": [
            "['david@example.com', 'ana123@gmail.com']\n"
          ]
        }
      ],
      "source": [
        "import re\n",
        "\n",
        "texto = \"Mi correo es david@example.com y el de Ana es ana123@gmail.com\"\n",
        "correos = re.findall(r'\\S+@\\S+', texto)\n",
        "print(correos)"
      ]
    },
    {
      "cell_type": "code",
      "source": [
        "import re\n",
        "\n",
        "texto = \"Mi correo es david@example.com y el de Ana es ana123@gmail.com\"\n",
        "correos = re.findall(r'\\S+@\\S+', texto)\n",
        "print(correos)"
      ],
      "metadata": {
        "id": "Xnp1tWg6J3Kx",
        "outputId": "05baf493-cddf-4f9f-cd0c-457238be05f7",
        "colab": {
          "base_uri": "https://localhost:8080/"
        }
      },
      "execution_count": 14,
      "outputs": [
        {
          "output_type": "stream",
          "name": "stdout",
          "text": [
            "['david@example.com', 'ana123@gmail.com']\n"
          ]
        }
      ]
    },
    {
      "cell_type": "code",
      "source": [
        "type(correos)"
      ],
      "metadata": {
        "id": "E-JxjBuwyavM",
        "outputId": "60664138-b0f6-43bc-c961-1d8e2172f7c6",
        "colab": {
          "base_uri": "https://localhost:8080/"
        }
      },
      "execution_count": 16,
      "outputs": [
        {
          "output_type": "execute_result",
          "data": {
            "text/plain": [
              "list"
            ]
          },
          "metadata": {},
          "execution_count": 16
        }
      ]
    },
    {
      "cell_type": "markdown",
      "source": [
        "### [1.2] Del uso de librerías"
      ],
      "metadata": {
        "id": "emDsY1i0z-Ej"
      }
    },
    {
      "cell_type": "code",
      "source": [
        "import sys\n",
        "\n",
        "sys.path"
      ],
      "metadata": {
        "id": "p6yeYDvb0Lr7",
        "outputId": "7bbd4eac-162a-46cf-a821-d728a4e6cc33",
        "colab": {
          "base_uri": "https://localhost:8080/"
        }
      },
      "execution_count": 17,
      "outputs": [
        {
          "output_type": "execute_result",
          "data": {
            "text/plain": [
              "['/content',\n",
              " '/env/python',\n",
              " '/usr/lib/python311.zip',\n",
              " '/usr/lib/python3.11',\n",
              " '/usr/lib/python3.11/lib-dynload',\n",
              " '',\n",
              " '/usr/local/lib/python3.11/dist-packages',\n",
              " '/usr/lib/python3/dist-packages',\n",
              " '/usr/local/lib/python3.11/dist-packages/IPython/extensions',\n",
              " '/usr/local/lib/python3.11/dist-packages/setuptools/_vendor',\n",
              " '/root/.ipython']"
            ]
          },
          "metadata": {},
          "execution_count": 17
        }
      ]
    },
    {
      "cell_type": "code",
      "source": [
        "type(sys.path)"
      ],
      "metadata": {
        "id": "3QgxX7400Tod",
        "outputId": "52ec14b5-e9e4-434b-80c2-2dad55240e44",
        "colab": {
          "base_uri": "https://localhost:8080/"
        }
      },
      "execution_count": 18,
      "outputs": [
        {
          "output_type": "execute_result",
          "data": {
            "text/plain": [
              "list"
            ]
          },
          "metadata": {},
          "execution_count": 18
        }
      ]
    },
    {
      "cell_type": "markdown",
      "source": [
        "### [1.3] De Dataframes"
      ],
      "metadata": {
        "id": "SrQhILEo0bwm"
      }
    },
    {
      "cell_type": "code",
      "source": [
        "import pandas as pd\n",
        "\n",
        "df = pd.read_csv(\"/content/clientes.csv\", sep=\";\")\n",
        "nombres = df.columns.tolist()\n",
        "print(nombres)"
      ],
      "metadata": {
        "id": "wvk_SxO8zEaK",
        "outputId": "db1f5aeb-7f01-4735-9b35-aecd08c1b353",
        "colab": {
          "base_uri": "https://localhost:8080/",
          "height": 382
        }
      },
      "execution_count": 19,
      "outputs": [
        {
          "output_type": "error",
          "ename": "FileNotFoundError",
          "evalue": "[Errno 2] No such file or directory: '/content/clientes.csv'",
          "traceback": [
            "\u001b[0;31m---------------------------------------------------------------------------\u001b[0m",
            "\u001b[0;31mFileNotFoundError\u001b[0m                         Traceback (most recent call last)",
            "\u001b[0;32m<ipython-input-19-73d5b1689f68>\u001b[0m in \u001b[0;36m<cell line: 0>\u001b[0;34m()\u001b[0m\n\u001b[1;32m      1\u001b[0m \u001b[0;32mimport\u001b[0m \u001b[0mpandas\u001b[0m \u001b[0;32mas\u001b[0m \u001b[0mpd\u001b[0m\u001b[0;34m\u001b[0m\u001b[0;34m\u001b[0m\u001b[0m\n\u001b[1;32m      2\u001b[0m \u001b[0;34m\u001b[0m\u001b[0m\n\u001b[0;32m----> 3\u001b[0;31m \u001b[0mdf\u001b[0m \u001b[0;34m=\u001b[0m \u001b[0mpd\u001b[0m\u001b[0;34m.\u001b[0m\u001b[0mread_csv\u001b[0m\u001b[0;34m(\u001b[0m\u001b[0;34m\"/content/clientes.csv\"\u001b[0m\u001b[0;34m,\u001b[0m \u001b[0msep\u001b[0m\u001b[0;34m=\u001b[0m\u001b[0;34m\";\"\u001b[0m\u001b[0;34m)\u001b[0m\u001b[0;34m\u001b[0m\u001b[0;34m\u001b[0m\u001b[0m\n\u001b[0m\u001b[1;32m      4\u001b[0m \u001b[0mnombres\u001b[0m \u001b[0;34m=\u001b[0m \u001b[0mdf\u001b[0m\u001b[0;34m.\u001b[0m\u001b[0mcolumns\u001b[0m\u001b[0;34m.\u001b[0m\u001b[0mtolist\u001b[0m\u001b[0;34m(\u001b[0m\u001b[0;34m)\u001b[0m\u001b[0;34m\u001b[0m\u001b[0;34m\u001b[0m\u001b[0m\n\u001b[1;32m      5\u001b[0m \u001b[0mprint\u001b[0m\u001b[0;34m(\u001b[0m\u001b[0mnombres\u001b[0m\u001b[0;34m)\u001b[0m\u001b[0;34m\u001b[0m\u001b[0;34m\u001b[0m\u001b[0m\n",
            "\u001b[0;32m/usr/local/lib/python3.11/dist-packages/pandas/io/parsers/readers.py\u001b[0m in \u001b[0;36mread_csv\u001b[0;34m(filepath_or_buffer, sep, delimiter, header, names, index_col, usecols, dtype, engine, converters, true_values, false_values, skipinitialspace, skiprows, skipfooter, nrows, na_values, keep_default_na, na_filter, verbose, skip_blank_lines, parse_dates, infer_datetime_format, keep_date_col, date_parser, date_format, dayfirst, cache_dates, iterator, chunksize, compression, thousands, decimal, lineterminator, quotechar, quoting, doublequote, escapechar, comment, encoding, encoding_errors, dialect, on_bad_lines, delim_whitespace, low_memory, memory_map, float_precision, storage_options, dtype_backend)\u001b[0m\n\u001b[1;32m   1024\u001b[0m     \u001b[0mkwds\u001b[0m\u001b[0;34m.\u001b[0m\u001b[0mupdate\u001b[0m\u001b[0;34m(\u001b[0m\u001b[0mkwds_defaults\u001b[0m\u001b[0;34m)\u001b[0m\u001b[0;34m\u001b[0m\u001b[0;34m\u001b[0m\u001b[0m\n\u001b[1;32m   1025\u001b[0m \u001b[0;34m\u001b[0m\u001b[0m\n\u001b[0;32m-> 1026\u001b[0;31m     \u001b[0;32mreturn\u001b[0m \u001b[0m_read\u001b[0m\u001b[0;34m(\u001b[0m\u001b[0mfilepath_or_buffer\u001b[0m\u001b[0;34m,\u001b[0m \u001b[0mkwds\u001b[0m\u001b[0;34m)\u001b[0m\u001b[0;34m\u001b[0m\u001b[0;34m\u001b[0m\u001b[0m\n\u001b[0m\u001b[1;32m   1027\u001b[0m \u001b[0;34m\u001b[0m\u001b[0m\n\u001b[1;32m   1028\u001b[0m \u001b[0;34m\u001b[0m\u001b[0m\n",
            "\u001b[0;32m/usr/local/lib/python3.11/dist-packages/pandas/io/parsers/readers.py\u001b[0m in \u001b[0;36m_read\u001b[0;34m(filepath_or_buffer, kwds)\u001b[0m\n\u001b[1;32m    618\u001b[0m \u001b[0;34m\u001b[0m\u001b[0m\n\u001b[1;32m    619\u001b[0m     \u001b[0;31m# Create the parser.\u001b[0m\u001b[0;34m\u001b[0m\u001b[0;34m\u001b[0m\u001b[0m\n\u001b[0;32m--> 620\u001b[0;31m     \u001b[0mparser\u001b[0m \u001b[0;34m=\u001b[0m \u001b[0mTextFileReader\u001b[0m\u001b[0;34m(\u001b[0m\u001b[0mfilepath_or_buffer\u001b[0m\u001b[0;34m,\u001b[0m \u001b[0;34m**\u001b[0m\u001b[0mkwds\u001b[0m\u001b[0;34m)\u001b[0m\u001b[0;34m\u001b[0m\u001b[0;34m\u001b[0m\u001b[0m\n\u001b[0m\u001b[1;32m    621\u001b[0m \u001b[0;34m\u001b[0m\u001b[0m\n\u001b[1;32m    622\u001b[0m     \u001b[0;32mif\u001b[0m \u001b[0mchunksize\u001b[0m \u001b[0;32mor\u001b[0m \u001b[0miterator\u001b[0m\u001b[0;34m:\u001b[0m\u001b[0;34m\u001b[0m\u001b[0;34m\u001b[0m\u001b[0m\n",
            "\u001b[0;32m/usr/local/lib/python3.11/dist-packages/pandas/io/parsers/readers.py\u001b[0m in \u001b[0;36m__init__\u001b[0;34m(self, f, engine, **kwds)\u001b[0m\n\u001b[1;32m   1618\u001b[0m \u001b[0;34m\u001b[0m\u001b[0m\n\u001b[1;32m   1619\u001b[0m         \u001b[0mself\u001b[0m\u001b[0;34m.\u001b[0m\u001b[0mhandles\u001b[0m\u001b[0;34m:\u001b[0m \u001b[0mIOHandles\u001b[0m \u001b[0;34m|\u001b[0m \u001b[0;32mNone\u001b[0m \u001b[0;34m=\u001b[0m \u001b[0;32mNone\u001b[0m\u001b[0;34m\u001b[0m\u001b[0;34m\u001b[0m\u001b[0m\n\u001b[0;32m-> 1620\u001b[0;31m         \u001b[0mself\u001b[0m\u001b[0;34m.\u001b[0m\u001b[0m_engine\u001b[0m \u001b[0;34m=\u001b[0m \u001b[0mself\u001b[0m\u001b[0;34m.\u001b[0m\u001b[0m_make_engine\u001b[0m\u001b[0;34m(\u001b[0m\u001b[0mf\u001b[0m\u001b[0;34m,\u001b[0m \u001b[0mself\u001b[0m\u001b[0;34m.\u001b[0m\u001b[0mengine\u001b[0m\u001b[0;34m)\u001b[0m\u001b[0;34m\u001b[0m\u001b[0;34m\u001b[0m\u001b[0m\n\u001b[0m\u001b[1;32m   1621\u001b[0m \u001b[0;34m\u001b[0m\u001b[0m\n\u001b[1;32m   1622\u001b[0m     \u001b[0;32mdef\u001b[0m \u001b[0mclose\u001b[0m\u001b[0;34m(\u001b[0m\u001b[0mself\u001b[0m\u001b[0;34m)\u001b[0m \u001b[0;34m->\u001b[0m \u001b[0;32mNone\u001b[0m\u001b[0;34m:\u001b[0m\u001b[0;34m\u001b[0m\u001b[0;34m\u001b[0m\u001b[0m\n",
            "\u001b[0;32m/usr/local/lib/python3.11/dist-packages/pandas/io/parsers/readers.py\u001b[0m in \u001b[0;36m_make_engine\u001b[0;34m(self, f, engine)\u001b[0m\n\u001b[1;32m   1878\u001b[0m                 \u001b[0;32mif\u001b[0m \u001b[0;34m\"b\"\u001b[0m \u001b[0;32mnot\u001b[0m \u001b[0;32min\u001b[0m \u001b[0mmode\u001b[0m\u001b[0;34m:\u001b[0m\u001b[0;34m\u001b[0m\u001b[0;34m\u001b[0m\u001b[0m\n\u001b[1;32m   1879\u001b[0m                     \u001b[0mmode\u001b[0m \u001b[0;34m+=\u001b[0m \u001b[0;34m\"b\"\u001b[0m\u001b[0;34m\u001b[0m\u001b[0;34m\u001b[0m\u001b[0m\n\u001b[0;32m-> 1880\u001b[0;31m             self.handles = get_handle(\n\u001b[0m\u001b[1;32m   1881\u001b[0m                 \u001b[0mf\u001b[0m\u001b[0;34m,\u001b[0m\u001b[0;34m\u001b[0m\u001b[0;34m\u001b[0m\u001b[0m\n\u001b[1;32m   1882\u001b[0m                 \u001b[0mmode\u001b[0m\u001b[0;34m,\u001b[0m\u001b[0;34m\u001b[0m\u001b[0;34m\u001b[0m\u001b[0m\n",
            "\u001b[0;32m/usr/local/lib/python3.11/dist-packages/pandas/io/common.py\u001b[0m in \u001b[0;36mget_handle\u001b[0;34m(path_or_buf, mode, encoding, compression, memory_map, is_text, errors, storage_options)\u001b[0m\n\u001b[1;32m    871\u001b[0m         \u001b[0;32mif\u001b[0m \u001b[0mioargs\u001b[0m\u001b[0;34m.\u001b[0m\u001b[0mencoding\u001b[0m \u001b[0;32mand\u001b[0m \u001b[0;34m\"b\"\u001b[0m \u001b[0;32mnot\u001b[0m \u001b[0;32min\u001b[0m \u001b[0mioargs\u001b[0m\u001b[0;34m.\u001b[0m\u001b[0mmode\u001b[0m\u001b[0;34m:\u001b[0m\u001b[0;34m\u001b[0m\u001b[0;34m\u001b[0m\u001b[0m\n\u001b[1;32m    872\u001b[0m             \u001b[0;31m# Encoding\u001b[0m\u001b[0;34m\u001b[0m\u001b[0;34m\u001b[0m\u001b[0m\n\u001b[0;32m--> 873\u001b[0;31m             handle = open(\n\u001b[0m\u001b[1;32m    874\u001b[0m                 \u001b[0mhandle\u001b[0m\u001b[0;34m,\u001b[0m\u001b[0;34m\u001b[0m\u001b[0;34m\u001b[0m\u001b[0m\n\u001b[1;32m    875\u001b[0m                 \u001b[0mioargs\u001b[0m\u001b[0;34m.\u001b[0m\u001b[0mmode\u001b[0m\u001b[0;34m,\u001b[0m\u001b[0;34m\u001b[0m\u001b[0;34m\u001b[0m\u001b[0m\n",
            "\u001b[0;31mFileNotFoundError\u001b[0m: [Errno 2] No such file or directory: '/content/clientes.csv'"
          ]
        }
      ]
    },
    {
      "cell_type": "code",
      "source": [
        "type(nombres)"
      ],
      "metadata": {
        "id": "m77tovvY0sQC",
        "outputId": "cb951960-987c-4226-f1ca-01ad4f640ab1",
        "colab": {
          "base_uri": "https://localhost:8080/",
          "height": 144
        }
      },
      "execution_count": 20,
      "outputs": [
        {
          "output_type": "error",
          "ename": "NameError",
          "evalue": "name 'nombres' is not defined",
          "traceback": [
            "\u001b[0;31m---------------------------------------------------------------------------\u001b[0m",
            "\u001b[0;31mNameError\u001b[0m                                 Traceback (most recent call last)",
            "\u001b[0;32m<ipython-input-20-eb48a265b5fa>\u001b[0m in \u001b[0;36m<cell line: 0>\u001b[0;34m()\u001b[0m\n\u001b[0;32m----> 1\u001b[0;31m \u001b[0mtype\u001b[0m\u001b[0;34m(\u001b[0m\u001b[0mnombres\u001b[0m\u001b[0;34m)\u001b[0m\u001b[0;34m\u001b[0m\u001b[0;34m\u001b[0m\u001b[0m\n\u001b[0m",
            "\u001b[0;31mNameError\u001b[0m: name 'nombres' is not defined"
          ]
        }
      ]
    },
    {
      "cell_type": "markdown",
      "source": [
        "### [1.3] De archivos de texto"
      ],
      "metadata": {
        "id": "ZmHzYEI91xj3"
      }
    },
    {
      "cell_type": "code",
      "source": [
        "import csv\n",
        "\n",
        "with open(\"/content/clientes.csv\", newline='') as archivo:\n",
        "    lector = csv.reader(archivo, delimiter=';')\n",
        "    filas = list(lector)\n",
        "    print(filas)  # Lista de listas (filas del archivo CSV)\n"
      ],
      "metadata": {
        "id": "Sp2JIB8x1Gp0",
        "outputId": "a223359a-e4b2-4850-cd7b-a87dbeefb5b5",
        "colab": {
          "base_uri": "https://localhost:8080/"
        }
      },
      "execution_count": 22,
      "outputs": [
        {
          "output_type": "stream",
          "name": "stdout",
          "text": [
            "[['ID', 'EDAD', 'INGRESOS', 'RIESGO', 'LINEA_TC'], ['123', '36', '1348', 'A', '49924'], ['234', '52', '9479', 'A', '28454'], ['345', '60', '7511', 'B', '14250'], ['456', '40', '7992', 'C', '32064'], ['567', '58', '2675', 'C', '1485'], ['678', '47', '7086', 'D', '29157'], ['789', '31', '4704', 'E', '14945'], ['999', '42', '6245', 'E', '8798']]\n"
          ]
        }
      ]
    },
    {
      "cell_type": "markdown",
      "source": [
        "## [2] Crear una lista"
      ],
      "metadata": {
        "id": "irKBCMSW02eJ"
      }
    },
    {
      "cell_type": "markdown",
      "source": [
        "### Actividad N001"
      ],
      "metadata": {
        "id": "--8g9GOM463B"
      }
    },
    {
      "cell_type": "code",
      "source": [
        "lugares = ['macchupichu','punta sal','pastoruri','laguna sauce','huacachina']"
      ],
      "metadata": {
        "id": "vnmUFQc_0xKy"
      },
      "execution_count": 23,
      "outputs": []
    },
    {
      "cell_type": "code",
      "source": [
        "print(f\"La lista de mis lugares favoritos es \\n {lugares}\")"
      ],
      "metadata": {
        "id": "EwmY7UZh21hv",
        "colab": {
          "base_uri": "https://localhost:8080/"
        },
        "outputId": "8f91ea4e-7307-4bc6-e428-0c9767f02023"
      },
      "execution_count": 24,
      "outputs": [
        {
          "output_type": "stream",
          "name": "stdout",
          "text": [
            "La lista de mis lugares favoritos es \n",
            " ['macchupichu', 'punta sal', 'pastoruri', 'laguna sauce', 'huacachina']\n"
          ]
        }
      ]
    },
    {
      "cell_type": "code",
      "source": [
        "print(f\"La lista lugares contiene \\n {lugares}\")\n",
        "print(f\"El tercer elemento de la lista es {lugares[4]}\")"
      ],
      "metadata": {
        "colab": {
          "base_uri": "https://localhost:8080/"
        },
        "id": "zoFF3hs7Q7Eo",
        "outputId": "1496c01c-196f-40e8-ca9d-4a10192ba182"
      },
      "execution_count": 25,
      "outputs": [
        {
          "output_type": "stream",
          "name": "stdout",
          "text": [
            "La lista lugares contiene \n",
            " ['macchupichu', 'punta sal', 'pastoruri', 'laguna sauce', 'huacachina']\n",
            "El tercer elemento de la lista es huacachina\n"
          ]
        }
      ]
    },
    {
      "cell_type": "markdown",
      "source": [
        "## [3] Tipos de listas"
      ],
      "metadata": {
        "id": "wQ0it4O23BVX"
      }
    },
    {
      "cell_type": "markdown",
      "source": [
        "### Actividad N002"
      ],
      "metadata": {
        "id": "mJ__gEzN5A8u"
      }
    },
    {
      "cell_type": "code",
      "source": [
        "nombre = 'david'\n",
        "apellidoPaterno = 'allende'\n",
        "profesion = 'estadístico'\n",
        "edad = 37\n",
        "centroLabores = 'misd'\n",
        "aniosExperiencia = 13\n",
        "\n",
        "info_personal = [nombre, apellidoPaterno, profesion, edad, centroLabores, aniosExperiencia]"
      ],
      "metadata": {
        "id": "GaG9FW5Y27RN"
      },
      "execution_count": 26,
      "outputs": []
    },
    {
      "cell_type": "code",
      "source": [
        "print(f\"La lista info_personal contiene \\n {info_personal}\")"
      ],
      "metadata": {
        "id": "aK6OVxAI3oUN",
        "outputId": "e823d80e-25ca-4298-9564-77cb53a8f09d",
        "colab": {
          "base_uri": "https://localhost:8080/"
        }
      },
      "execution_count": 27,
      "outputs": [
        {
          "output_type": "stream",
          "name": "stdout",
          "text": [
            "La lista info_personal contiene \n",
            " ['david', 'allende', 'estadístico', 37, 'misd', 13]\n"
          ]
        }
      ]
    },
    {
      "cell_type": "markdown",
      "source": [
        "## [4] Acceder a los elementos de una lista"
      ],
      "metadata": {
        "id": "7Bw-DDlF31UD"
      }
    },
    {
      "cell_type": "code",
      "source": [
        "materias = ['álgebra','aritmética','razonamiento verbal','trigonometría','geometría']"
      ],
      "metadata": {
        "id": "WFYgRar93v2D"
      },
      "execution_count": 28,
      "outputs": []
    },
    {
      "cell_type": "code",
      "source": [
        "print(f\"La lista materias contiene \\n {materias}\")\n",
        "print(f\"El segundo elemento de la lista es {materias[1]}\")"
      ],
      "metadata": {
        "id": "lTC_xydf4VfA",
        "outputId": "80dbfb2a-f3b7-4e87-8b28-9454c0a62ea9",
        "colab": {
          "base_uri": "https://localhost:8080/"
        }
      },
      "execution_count": 29,
      "outputs": [
        {
          "output_type": "stream",
          "name": "stdout",
          "text": [
            "La lista materias contiene \n",
            " ['álgebra', 'aritmética', 'razonamiento verbal', 'trigonometría', 'geometría']\n",
            "El segundo elemento de la lista es aritmética\n"
          ]
        }
      ]
    },
    {
      "cell_type": "code",
      "source": [
        "print(f\"La lista materias contiene \\n {materias}\")\n",
        "print(f\"El segundo elemento de la lista es {materias[0]}\")"
      ],
      "metadata": {
        "id": "u_XXlJIMQdro",
        "outputId": "0096d7e6-c928-43e5-fb35-fb98021cd345",
        "colab": {
          "base_uri": "https://localhost:8080/"
        }
      },
      "execution_count": 30,
      "outputs": [
        {
          "output_type": "stream",
          "name": "stdout",
          "text": [
            "La lista materias contiene \n",
            " ['álgebra', 'aritmética', 'razonamiento verbal', 'trigonometría', 'geometría']\n",
            "El segundo elemento de la lista es álgebra\n"
          ]
        }
      ]
    },
    {
      "cell_type": "markdown",
      "source": [
        "### Actividad N003"
      ],
      "metadata": {
        "id": "q0AS9Dqx4wN2"
      }
    },
    {
      "cell_type": "code",
      "source": [
        "## SOLUCIÓN ACTIVIDAD N003\n"
      ],
      "metadata": {
        "id": "aFI0M3XO4oSb"
      },
      "execution_count": 31,
      "outputs": []
    },
    {
      "cell_type": "code",
      "source": [
        "print(f\"La lista lugares: \\n {lugares}\")\n",
        "print(f\"El primer elemento de la lista lugares es {lugares[0]}\")\n",
        "print(f\"El primer elemento de la lista lugares (en mayúsculas) es {lugares[0].upper()}\")"
      ],
      "metadata": {
        "id": "-2v5LC1A5RKV",
        "colab": {
          "base_uri": "https://localhost:8080/"
        },
        "outputId": "74058ce1-3a8e-49cc-9579-7b0dd7a92620"
      },
      "execution_count": 32,
      "outputs": [
        {
          "output_type": "stream",
          "name": "stdout",
          "text": [
            "La lista lugares: \n",
            " ['macchupichu', 'punta sal', 'pastoruri', 'laguna sauce', 'huacachina']\n",
            "El primer elemento de la lista lugares es macchupichu\n",
            "El primer elemento de la lista lugares (en mayúsculas) es MACCHUPICHU\n"
          ]
        }
      ]
    },
    {
      "cell_type": "code",
      "source": [
        "print(f\"El cuarto elemento de la lista es {lugares[4]}\")"
      ],
      "metadata": {
        "colab": {
          "base_uri": "https://localhost:8080/"
        },
        "id": "drASVHBySCwY",
        "outputId": "a825528b-a151-444c-ce9c-109df2031584"
      },
      "execution_count": 33,
      "outputs": [
        {
          "output_type": "stream",
          "name": "stdout",
          "text": [
            "El cuarto elemento de la lista es huacachina\n"
          ]
        }
      ]
    },
    {
      "cell_type": "markdown",
      "source": [
        "### Actividad N004"
      ],
      "metadata": {
        "id": "oxmJ79pa57qM"
      }
    },
    {
      "cell_type": "code",
      "source": [
        "## SOLUCIÓN ACTIVIDAD N004\n"
      ],
      "metadata": {
        "id": "CeGQrfyY5frQ"
      },
      "execution_count": 34,
      "outputs": []
    },
    {
      "cell_type": "code",
      "source": [
        "print(f\"La lista materias contiene \\n{materias}\")\n",
        "print(f\"El último elemento de la lista es {materias[-1]}\")"
      ],
      "metadata": {
        "id": "l6kaEYDr6Sn_",
        "outputId": "42bf24fc-6044-43d9-bf19-358901d6ea73",
        "colab": {
          "base_uri": "https://localhost:8080/"
        }
      },
      "execution_count": 35,
      "outputs": [
        {
          "output_type": "stream",
          "name": "stdout",
          "text": [
            "La lista materias contiene \n",
            "['álgebra', 'aritmética', 'razonamiento verbal', 'trigonometría', 'geometría']\n",
            "El último elemento de la lista es geometría\n"
          ]
        }
      ]
    },
    {
      "cell_type": "code",
      "source": [
        "info_personal = ['david', 'allende', 'estadístico', 37, 'misd', 13]"
      ],
      "metadata": {
        "id": "yrlAAuX3TLNV"
      },
      "execution_count": 36,
      "outputs": []
    },
    {
      "cell_type": "code",
      "source": [
        "print(f\"Hola me llamo {info_personal[0].capitalize()} {info_personal[1].capitalize()} soy {info_personal[2].capitalize()} tengo {info_personal[3]} años, trabajo en la empresa {info_personal[4]} y tengo {info_personal[5]} años de experiencia\")"
      ],
      "metadata": {
        "colab": {
          "base_uri": "https://localhost:8080/"
        },
        "id": "DCZ9GYy6UGG4",
        "outputId": "06177f23-2756-4a07-cf15-8a8da7b984f0"
      },
      "execution_count": 37,
      "outputs": [
        {
          "output_type": "stream",
          "name": "stdout",
          "text": [
            "Hola me llamo David Allende soy Estadístico tengo 37 años, trabajo en la empresa misd y tengo 13 años de experiencia\n"
          ]
        }
      ]
    },
    {
      "cell_type": "code",
      "source": [
        "marcas = ['adidas', 'nike', 'asics', 'puma', 'hoka' ]"
      ],
      "metadata": {
        "id": "mdxL3E7sYg1F"
      },
      "execution_count": 38,
      "outputs": []
    },
    {
      "cell_type": "code",
      "source": [
        "print(f\"Mi marca favorita de zapatillas de correr es {marcas[4].capitalize()}\")"
      ],
      "metadata": {
        "colab": {
          "base_uri": "https://localhost:8080/"
        },
        "id": "RLRBjXBVYut3",
        "outputId": "a3ace915-9df3-4e23-d768-1898c050ff51"
      },
      "execution_count": 39,
      "outputs": [
        {
          "output_type": "stream",
          "name": "stdout",
          "text": [
            "Mi marca favorita de zapatillas de correr es Hoka\n"
          ]
        }
      ]
    },
    {
      "cell_type": "code",
      "source": [
        "%whos"
      ],
      "metadata": {
        "colab": {
          "base_uri": "https://localhost:8080/"
        },
        "id": "W4RTofSMZs1z",
        "outputId": "16e42346-eb58-4e80-b0fe-97ea214eaa72"
      },
      "execution_count": 40,
      "outputs": [
        {
          "output_type": "stream",
          "name": "stdout",
          "text": [
            "Variable           Type             Data/Info\n",
            "---------------------------------------------\n",
            "aniosExperiencia   int              13\n",
            "apellidoPaterno    str              allende\n",
            "archivo            TextIOWrapper    <_io.TextIOWrapper name='<...>ode='r' encoding='utf-8'>\n",
            "centroLabores      str              misd\n",
            "correos            list             n=2\n",
            "csv                module           <module 'csv' from '/usr/lib/python3.11/csv.py'>\n",
            "edad               int              37\n",
            "el_el1             str              pastoruri\n",
            "el_el2             str              huacachina\n",
            "exc2               str              trigonometría\n",
            "filas              list             n=9\n",
            "info_personal      list             n=6\n",
            "lector             reader           <_csv.reader object at 0x7ae730b4a7a0>\n",
            "lugares            list             n=5\n",
            "marcas             list             n=5\n",
            "materias           list             n=5\n",
            "nombre             str              david\n",
            "pd                 module           <module 'pandas' from '/u<...>ages/pandas/__init__.py'>\n",
            "profesion          str              estadístico\n",
            "re                 module           <module 're' from '/usr/l<...>thon3.11/re/__init__.py'>\n",
            "sys                module           <module 'sys' (built-in)>\n",
            "texto              str              Mi correo es david@exampl<...>e Ana es ana123@gmail.com\n"
          ]
        }
      ]
    },
    {
      "cell_type": "markdown",
      "source": [
        "### Actividad N005"
      ],
      "metadata": {
        "id": "gXt3UlLD6j1I"
      }
    },
    {
      "cell_type": "code",
      "source": [
        "## SOLUCIÓN ACTIVIDAD N005\n"
      ],
      "metadata": {
        "id": "Xw-NMtVe6aJ4"
      },
      "execution_count": 41,
      "outputs": []
    },
    {
      "cell_type": "markdown",
      "source": [
        "## [5] Modificar los elementos de una lista"
      ],
      "metadata": {
        "id": "9vPV8Ya06s84"
      }
    },
    {
      "cell_type": "code",
      "source": [
        "print(f\"La lista original de materias es \\n{materias}\")\n",
        "materias[1] = 'filosofía'\n",
        "print(f\"La lista actualizada de materias es \\n{materias}\")"
      ],
      "metadata": {
        "id": "qeD97ZwE6n4m",
        "colab": {
          "base_uri": "https://localhost:8080/"
        },
        "outputId": "5558793c-b1e0-48e6-c949-997b6a73242d"
      },
      "execution_count": 42,
      "outputs": [
        {
          "output_type": "stream",
          "name": "stdout",
          "text": [
            "La lista original de materias es \n",
            "['álgebra', 'aritmética', 'razonamiento verbal', 'trigonometría', 'geometría']\n",
            "La lista actualizada de materias es \n",
            "['álgebra', 'filosofía', 'razonamiento verbal', 'trigonometría', 'geometría']\n"
          ]
        }
      ]
    },
    {
      "cell_type": "code",
      "source": [
        "print(f\"Hola me llamo {info_personal[0].capitalize()} {info_personal[1].capitalize()} soy {info_personal[2].capitalize()} tengo {info_personal[3]} años, trabajo en la empresa {info_personal[4]} y tengo {info_personal[5]} años de experiencia\")\n",
        "info_personal[4] = \"Google\"\n",
        "print(f\"Hola me llamo {info_personal[0].capitalize()} {info_personal[1].capitalize()} soy {info_personal[2].capitalize()} tengo {info_personal[3]} años, trabajo en la empresa {info_personal[4]} y tengo {info_personal[5]} años de experiencia\")"
      ],
      "metadata": {
        "colab": {
          "base_uri": "https://localhost:8080/"
        },
        "id": "VkXPxNktbR-H",
        "outputId": "966c1397-28a0-421c-d3b5-c5c770e41cec"
      },
      "execution_count": 43,
      "outputs": [
        {
          "output_type": "stream",
          "name": "stdout",
          "text": [
            "Hola me llamo David Allende soy Estadístico tengo 37 años, trabajo en la empresa misd y tengo 13 años de experiencia\n",
            "Hola me llamo David Allende soy Estadístico tengo 37 años, trabajo en la empresa Google y tengo 13 años de experiencia\n"
          ]
        }
      ]
    },
    {
      "cell_type": "code",
      "source": [
        "print(f\"La lista original es \\n{info_personal}\")\n",
        "info_personal[4] = 'Google'\n",
        "print(f\"La lista actualizada es \\n{info_personal}\")"
      ],
      "metadata": {
        "colab": {
          "base_uri": "https://localhost:8080/"
        },
        "id": "ZN5mDIGqbE_a",
        "outputId": "263edf78-4cd1-4772-de14-a4fd91d587cf"
      },
      "execution_count": 44,
      "outputs": [
        {
          "output_type": "stream",
          "name": "stdout",
          "text": [
            "La lista original es \n",
            "['david', 'allende', 'estadístico', 37, 'Google', 13]\n",
            "La lista actualizada es \n",
            "['david', 'allende', 'estadístico', 37, 'Google', 13]\n"
          ]
        }
      ]
    },
    {
      "cell_type": "markdown",
      "source": [
        "### Actividad N006"
      ],
      "metadata": {
        "id": "piyoQAzu7Pqv"
      }
    },
    {
      "cell_type": "code",
      "source": [
        "## SOLUCIÓN ACTIVIDAD N006\n"
      ],
      "metadata": {
        "id": "cW_FXD7G7JI_"
      },
      "execution_count": 45,
      "outputs": []
    },
    {
      "cell_type": "markdown",
      "source": [
        "## [6] Añadir un elemento a una lista"
      ],
      "metadata": {
        "id": "nzRyoj8H7bMD"
      }
    },
    {
      "cell_type": "markdown",
      "source": [
        "### Método append"
      ],
      "metadata": {
        "id": "F5qgskxX79FW"
      }
    },
    {
      "cell_type": "code",
      "source": [
        "print(f\"La lista original es \\n{materias}\")\n",
        "materias.append('química')\n",
        "print(f\"La lista actualizada es \\n{materias}\")"
      ],
      "metadata": {
        "id": "5YeIR2kw7XTZ",
        "colab": {
          "base_uri": "https://localhost:8080/"
        },
        "outputId": "49920305-18fc-4c70-f2fc-18955ad32d44"
      },
      "execution_count": 46,
      "outputs": [
        {
          "output_type": "stream",
          "name": "stdout",
          "text": [
            "La lista original es \n",
            "['álgebra', 'filosofía', 'razonamiento verbal', 'trigonometría', 'geometría']\n",
            "La lista actualizada es \n",
            "['álgebra', 'filosofía', 'razonamiento verbal', 'trigonometría', 'geometría', 'química']\n"
          ]
        }
      ]
    },
    {
      "cell_type": "code",
      "source": [
        "#añadir un dato\n",
        "print(f\"La lista original es \\n{info_personal}\")\n",
        "info_personal.append('futbol')\n",
        "print(f\"La lista actualizada es \\n{info_personal}\")"
      ],
      "metadata": {
        "colab": {
          "base_uri": "https://localhost:8080/"
        },
        "id": "h9xI3ACVcEVB",
        "outputId": "413234e0-d28d-486a-aa64-1b9d7f4ca374"
      },
      "execution_count": 47,
      "outputs": [
        {
          "output_type": "stream",
          "name": "stdout",
          "text": [
            "La lista original es \n",
            "['david', 'allende', 'estadístico', 37, 'Google', 13]\n",
            "La lista actualizada es \n",
            "['david', 'allende', 'estadístico', 37, 'Google', 13, 'futbol']\n"
          ]
        }
      ]
    },
    {
      "cell_type": "code",
      "source": [
        "#añadir un dato\n",
        "print(f\"La lista original es \\n{lugares}\")\n",
        "lugares.append('reserva de Paracas')\n",
        "print(f\"La lista actualizada es \\n{lugares}\")"
      ],
      "metadata": {
        "colab": {
          "base_uri": "https://localhost:8080/"
        },
        "id": "T1uNYxLYciwY",
        "outputId": "0a4f6fc0-2d29-4926-8ed4-3469a8906d1c"
      },
      "execution_count": 48,
      "outputs": [
        {
          "output_type": "stream",
          "name": "stdout",
          "text": [
            "La lista original es \n",
            "['macchupichu', 'punta sal', 'pastoruri', 'laguna sauce', 'huacachina']\n",
            "La lista actualizada es \n",
            "['macchupichu', 'punta sal', 'pastoruri', 'laguna sauce', 'huacachina', 'reserva de Paracas']\n"
          ]
        }
      ]
    },
    {
      "cell_type": "code",
      "source": [
        "#añadir un dato\n",
        "print(f\"La lista original es \\n{materias}\")\n",
        "materias.insert(3,'fisica')\n",
        "print(f\"La lista actualizada es \\n{materias}\")"
      ],
      "metadata": {
        "colab": {
          "base_uri": "https://localhost:8080/"
        },
        "id": "CNWuFpNndkhm",
        "outputId": "1328f4a0-e571-4355-bbbd-bf04d845205c"
      },
      "execution_count": 49,
      "outputs": [
        {
          "output_type": "stream",
          "name": "stdout",
          "text": [
            "La lista original es \n",
            "['álgebra', 'filosofía', 'razonamiento verbal', 'trigonometría', 'geometría', 'química']\n",
            "La lista actualizada es \n",
            "['álgebra', 'filosofía', 'razonamiento verbal', 'fisica', 'trigonometría', 'geometría', 'química']\n"
          ]
        }
      ]
    },
    {
      "cell_type": "markdown",
      "source": [
        "### Actividad N007"
      ],
      "metadata": {
        "id": "uKnBn9RX7zoB"
      }
    },
    {
      "cell_type": "code",
      "source": [
        "## SOLUCIÓN ACTIVIDA N007\n"
      ],
      "metadata": {
        "id": "f25BvpPa7vSw"
      },
      "execution_count": null,
      "outputs": []
    },
    {
      "cell_type": "markdown",
      "source": [
        "### Método insert"
      ],
      "metadata": {
        "id": "Ejv_9b5g8CKs"
      }
    },
    {
      "cell_type": "code",
      "source": [
        "print(f\"La lista de materias es \\n{materias}\")\n",
        "materias.insert(3,'física')\n",
        "print(f\"La lista de materias actualizada es \\n{materias}\")"
      ],
      "metadata": {
        "id": "jC1p2XUZ73wB",
        "colab": {
          "base_uri": "https://localhost:8080/"
        },
        "outputId": "71ad7849-5d27-4ba1-db88-9822c8a3f835"
      },
      "execution_count": 50,
      "outputs": [
        {
          "output_type": "stream",
          "name": "stdout",
          "text": [
            "La lista de materias es \n",
            "['álgebra', 'filosofía', 'razonamiento verbal', 'fisica', 'trigonometría', 'geometría', 'química']\n",
            "La lista de materias actualizada es \n",
            "['álgebra', 'filosofía', 'razonamiento verbal', 'física', 'fisica', 'trigonometría', 'geometría', 'química']\n"
          ]
        }
      ]
    },
    {
      "cell_type": "markdown",
      "source": [
        "### Actividad N008"
      ],
      "metadata": {
        "id": "DcgswlJf8ggw"
      }
    },
    {
      "cell_type": "code",
      "source": [
        "## SOLUCIÓN ACTIVIDAD N008\n",
        "print(f\"La lista de materias es \\n{info_personal}\")\n",
        "info_personal.insert(3,'La UNI')\n",
        "print(f\"La lista de materias actualizada es \\n{info_personal}\")"
      ],
      "metadata": {
        "id": "0xWkqsRR8azc",
        "colab": {
          "base_uri": "https://localhost:8080/"
        },
        "outputId": "f64f7c46-c463-47d7-f184-44fd1b706c76"
      },
      "execution_count": 51,
      "outputs": [
        {
          "output_type": "stream",
          "name": "stdout",
          "text": [
            "La lista de materias es \n",
            "['david', 'allende', 'estadístico', 37, 'Google', 13, 'futbol']\n",
            "La lista de materias actualizada es \n",
            "['david', 'allende', 'estadístico', 'La UNI', 37, 'Google', 13, 'futbol']\n"
          ]
        }
      ]
    },
    {
      "cell_type": "markdown",
      "source": [
        "## [7] Remover los elementos de una lista"
      ],
      "metadata": {
        "id": "s2icJ_8C8scH"
      }
    },
    {
      "cell_type": "markdown",
      "source": [
        "### Método del"
      ],
      "metadata": {
        "id": "Oc8L61Ao9Vyt"
      }
    },
    {
      "cell_type": "code",
      "source": [
        "print(f\"La lista materias es \\n{materias}\")\n",
        "del materias[3]\n",
        "print(f\"La lista actualizada es \\n{materias}\")"
      ],
      "metadata": {
        "id": "1K-iK1NQ8kEf",
        "colab": {
          "base_uri": "https://localhost:8080/"
        },
        "outputId": "c0b95089-49ad-4823-9637-cdaf1082038f"
      },
      "execution_count": 52,
      "outputs": [
        {
          "output_type": "stream",
          "name": "stdout",
          "text": [
            "La lista materias es \n",
            "['álgebra', 'filosofía', 'razonamiento verbal', 'física', 'fisica', 'trigonometría', 'geometría', 'química']\n",
            "La lista actualizada es \n",
            "['álgebra', 'filosofía', 'razonamiento verbal', 'fisica', 'trigonometría', 'geometría', 'química']\n"
          ]
        }
      ]
    },
    {
      "cell_type": "code",
      "source": [
        "print(f\"La lista materias es \\n{materias}\")\n",
        "del materias[3:5]\n",
        "print(f\"La lista actualizada es \\n{materias}\")"
      ],
      "metadata": {
        "colab": {
          "base_uri": "https://localhost:8080/"
        },
        "id": "A4YxlOjng3C5",
        "outputId": "c3b524fe-1db6-49a3-b342-4dab8c7bdea0"
      },
      "execution_count": 53,
      "outputs": [
        {
          "output_type": "stream",
          "name": "stdout",
          "text": [
            "La lista materias es \n",
            "['álgebra', 'filosofía', 'razonamiento verbal', 'fisica', 'trigonometría', 'geometría', 'química']\n",
            "La lista actualizada es \n",
            "['álgebra', 'filosofía', 'razonamiento verbal', 'geometría', 'química']\n"
          ]
        }
      ]
    },
    {
      "cell_type": "markdown",
      "source": [
        "### Actividad N009"
      ],
      "metadata": {
        "id": "VFggpdYt9MR4"
      }
    },
    {
      "cell_type": "code",
      "source": [
        "## SOLUCIÓN ACTIVIDAD N009\n",
        "print(f\"La lista materias es \\n{materias}\")\n",
        "exc2 = materias.pop(3)\n",
        "print(f\"La lista actualizada es \\n{materias}\")"
      ],
      "metadata": {
        "id": "2j90g_Ct9Itc",
        "colab": {
          "base_uri": "https://localhost:8080/"
        },
        "outputId": "277ac0eb-55d3-4406-d8a0-30c44234367c"
      },
      "execution_count": 54,
      "outputs": [
        {
          "output_type": "stream",
          "name": "stdout",
          "text": [
            "La lista materias es \n",
            "['álgebra', 'filosofía', 'razonamiento verbal', 'geometría', 'química']\n",
            "La lista actualizada es \n",
            "['álgebra', 'filosofía', 'razonamiento verbal', 'química']\n"
          ]
        }
      ]
    },
    {
      "cell_type": "code",
      "source": [
        "print(f\"La lista lugares es \\n{lugares}\")\n",
        "del lugares[2]\n",
        "print(f\"La lista actualizada es \\n{lugares}\")"
      ],
      "metadata": {
        "colab": {
          "base_uri": "https://localhost:8080/"
        },
        "id": "XTfaGwY1jb4T",
        "outputId": "6fd82dba-45ec-4ff8-b016-4862e6170c8a"
      },
      "execution_count": 55,
      "outputs": [
        {
          "output_type": "stream",
          "name": "stdout",
          "text": [
            "La lista lugares es \n",
            "['macchupichu', 'punta sal', 'pastoruri', 'laguna sauce', 'huacachina', 'reserva de Paracas']\n",
            "La lista actualizada es \n",
            "['macchupichu', 'punta sal', 'laguna sauce', 'huacachina', 'reserva de Paracas']\n"
          ]
        }
      ]
    },
    {
      "cell_type": "code",
      "source": [
        "print(f\"La lista lugares es \\n{lugares}\")\n",
        "el_el1 = lugares.pop (1)\n",
        "print(f\"El elemento eliminado \\n{el_el1}\")\n",
        "print(f\"La lista actualizada es \\n{lugares}\")"
      ],
      "metadata": {
        "colab": {
          "base_uri": "https://localhost:8080/"
        },
        "id": "DcNWGsk-kTab",
        "outputId": "2ef739ca-f409-4617-b7c2-9660924dd26c"
      },
      "execution_count": 56,
      "outputs": [
        {
          "output_type": "stream",
          "name": "stdout",
          "text": [
            "La lista lugares es \n",
            "['macchupichu', 'punta sal', 'laguna sauce', 'huacachina', 'reserva de Paracas']\n",
            "El elemento eliminado \n",
            "punta sal\n",
            "La lista actualizada es \n",
            "['macchupichu', 'laguna sauce', 'huacachina', 'reserva de Paracas']\n"
          ]
        }
      ]
    },
    {
      "cell_type": "markdown",
      "source": [],
      "metadata": {
        "id": "itYsZtLr9a1y"
      }
    },
    {
      "cell_type": "markdown",
      "source": [
        "### Método pop"
      ],
      "metadata": {
        "id": "G_-05doA9ckW"
      }
    },
    {
      "cell_type": "code",
      "source": [
        "print(f\"La lista materias es \\n{materias}\")\n",
        "el_exc1 = materias.pop()\n",
        "print(f\"La lista materias actualizada es \\n{materias}\")"
      ],
      "metadata": {
        "id": "vzzIn2MP9QQ0",
        "colab": {
          "base_uri": "https://localhost:8080/"
        },
        "outputId": "72d7718e-37f8-4c86-aef2-2af59651fbcd"
      },
      "execution_count": 57,
      "outputs": [
        {
          "output_type": "stream",
          "name": "stdout",
          "text": [
            "La lista materias es \n",
            "['álgebra', 'filosofía', 'razonamiento verbal', 'química']\n",
            "La lista materias actualizada es \n",
            "['álgebra', 'filosofía', 'razonamiento verbal']\n"
          ]
        }
      ]
    },
    {
      "cell_type": "code",
      "source": [
        "print(f\"El elemento eliminado de la lista materias, ubicado al final de la lista es {el_exc1}\")"
      ],
      "metadata": {
        "id": "_dYro6si9qDD",
        "colab": {
          "base_uri": "https://localhost:8080/"
        },
        "outputId": "a3f9240a-4292-4805-d5c2-11cf22161371"
      },
      "execution_count": 58,
      "outputs": [
        {
          "output_type": "stream",
          "name": "stdout",
          "text": [
            "El elemento eliminado de la lista materias, ubicado al final de la lista es química\n"
          ]
        }
      ]
    },
    {
      "cell_type": "code",
      "source": [
        "el_exc2 = materias.pop(3)\n",
        "print(f\"El elemento eliminado de la lista materias, ubicado en la cuarta posición es {el_exc2}\")\n",
        "print(f\"La lista materias actualizada es \\n{materias}\")"
      ],
      "metadata": {
        "id": "X-w9D9Cf9wsE",
        "colab": {
          "base_uri": "https://localhost:8080/",
          "height": 180
        },
        "outputId": "4a7c34ff-5575-4e4b-baf8-2a87cfd33a93"
      },
      "execution_count": 59,
      "outputs": [
        {
          "output_type": "error",
          "ename": "IndexError",
          "evalue": "pop index out of range",
          "traceback": [
            "\u001b[0;31m---------------------------------------------------------------------------\u001b[0m",
            "\u001b[0;31mIndexError\u001b[0m                                Traceback (most recent call last)",
            "\u001b[0;32m<ipython-input-59-722f796defa6>\u001b[0m in \u001b[0;36m<cell line: 0>\u001b[0;34m()\u001b[0m\n\u001b[0;32m----> 1\u001b[0;31m \u001b[0mel_exc2\u001b[0m \u001b[0;34m=\u001b[0m \u001b[0mmaterias\u001b[0m\u001b[0;34m.\u001b[0m\u001b[0mpop\u001b[0m\u001b[0;34m(\u001b[0m\u001b[0;36m3\u001b[0m\u001b[0;34m)\u001b[0m\u001b[0;34m\u001b[0m\u001b[0;34m\u001b[0m\u001b[0m\n\u001b[0m\u001b[1;32m      2\u001b[0m \u001b[0mprint\u001b[0m\u001b[0;34m(\u001b[0m\u001b[0;34mf\"El elemento eliminado de la lista materias, ubicado en la cuarta posición es {el_exc2}\"\u001b[0m\u001b[0;34m)\u001b[0m\u001b[0;34m\u001b[0m\u001b[0;34m\u001b[0m\u001b[0m\n\u001b[1;32m      3\u001b[0m \u001b[0mprint\u001b[0m\u001b[0;34m(\u001b[0m\u001b[0;34mf\"La lista materias actualizada es \\n{materias}\"\u001b[0m\u001b[0;34m)\u001b[0m\u001b[0;34m\u001b[0m\u001b[0;34m\u001b[0m\u001b[0m\n",
            "\u001b[0;31mIndexError\u001b[0m: pop index out of range"
          ]
        }
      ]
    },
    {
      "cell_type": "markdown",
      "source": [
        "### Actividad N010"
      ],
      "metadata": {
        "id": "11c8mjWM-N4m"
      }
    },
    {
      "cell_type": "code",
      "source": [
        "## SOLUCIÓN ACTIVIDAD N010\n",
        "print(f\"La lista de lugares contiene los siguientes elementos \\n{lugares}\")\n",
        "el_el1 = lugares.pop(1)\n",
        "el_el2 = lugares.pop(2)\n",
        "print(f\"El elemento eliminado de la posiciòn 2 es {el_el1}\")"
      ],
      "metadata": {
        "id": "QhLPByTU-BPb",
        "outputId": "0d765a67-b9f9-4e5c-c2f9-dad552013439",
        "colab": {
          "base_uri": "https://localhost:8080/"
        }
      },
      "execution_count": 60,
      "outputs": [
        {
          "output_type": "stream",
          "name": "stdout",
          "text": [
            "La lista de lugares contiene los siguientes elementos \n",
            "['macchupichu', 'laguna sauce', 'huacachina', 'reserva de Paracas']\n",
            "El elemento eliminado de la posiciòn 2 es laguna sauce\n"
          ]
        }
      ]
    },
    {
      "cell_type": "markdown",
      "source": [
        "### Método remove"
      ],
      "metadata": {
        "id": "GPviXjjh-WZr"
      }
    },
    {
      "cell_type": "code",
      "source": [
        "print(f\"La lista materias es \\n{materias}\")\n",
        "materias.remove('filosofía')\n",
        "print(f\"La lista materias actualizada es \\n{materias}\")"
      ],
      "metadata": {
        "id": "tAxqSlE0-SDt",
        "colab": {
          "base_uri": "https://localhost:8080/"
        },
        "outputId": "136b560b-afb3-410d-a370-37595a628dde"
      },
      "execution_count": 61,
      "outputs": [
        {
          "output_type": "stream",
          "name": "stdout",
          "text": [
            "La lista materias es \n",
            "['álgebra', 'filosofía', 'razonamiento verbal']\n",
            "La lista materias actualizada es \n",
            "['álgebra', 'razonamiento verbal']\n"
          ]
        }
      ]
    },
    {
      "cell_type": "markdown",
      "source": [
        "### Actividad N011"
      ],
      "metadata": {
        "id": "I7nsxzfd-oTV"
      }
    },
    {
      "cell_type": "code",
      "source": [
        "## SOLUCIÓN ACTIVIDAD N011\n",
        "marcas = ['nike','adidas','asics','hoka','puma']\n",
        "print(f\"La lista marcas es \\n{marcas}\")\n",
        "marcas.remove('asics')\n",
        "print(f\"La lista marcas actualizada es \\n{marcas}\")"
      ],
      "metadata": {
        "id": "i3RyrzJw-kCr",
        "outputId": "b9b1de52-b0e0-4eb5-973e-d2a9f7b5bc3f",
        "colab": {
          "base_uri": "https://localhost:8080/"
        }
      },
      "execution_count": 63,
      "outputs": [
        {
          "output_type": "stream",
          "name": "stdout",
          "text": [
            "La lista marcas es \n",
            "['nike', 'adidas', 'asics', 'hoka', 'puma']\n",
            "La lista marcas actualizada es \n",
            "['nike', 'adidas', 'hoka', 'puma']\n"
          ]
        }
      ]
    },
    {
      "cell_type": "code",
      "source": [],
      "metadata": {
        "id": "tMsTSKEndhWZ"
      },
      "execution_count": null,
      "outputs": []
    },
    {
      "cell_type": "markdown",
      "source": [
        "## [8] Ordenar los elementos de una lista"
      ],
      "metadata": {
        "id": "PMOmvQ1O-vz7"
      }
    },
    {
      "cell_type": "markdown",
      "source": [
        "### De manera permanente"
      ],
      "metadata": {
        "id": "2fdlt9Vc_weK"
      }
    },
    {
      "cell_type": "code",
      "source": [
        "print(f\"La lista materias es \\n{materias}\")\n",
        "materias.sort()\n",
        "print(f\"La lista materias actualizada es \\n{materias}\")\n"
      ],
      "metadata": {
        "id": "UCivu0jT-ryW",
        "outputId": "a37867b9-8cbb-4821-d0ab-11fd6b353f40",
        "colab": {
          "base_uri": "https://localhost:8080/"
        }
      },
      "execution_count": 64,
      "outputs": [
        {
          "output_type": "stream",
          "name": "stdout",
          "text": [
            "La lista materias es \n",
            "['álgebra', 'razonamiento verbal']\n",
            "La lista materias actualizada es \n",
            "['razonamiento verbal', 'álgebra']\n"
          ]
        }
      ]
    },
    {
      "cell_type": "code",
      "source": [
        "print(f\"La lista lugares es \\n{lugares}\")\n",
        "lugares.sort(reverse=True)\n",
        "print(f\"La lista lugares actualizada es \\n{lugares}\")"
      ],
      "metadata": {
        "id": "rjkFon3L_Byz",
        "outputId": "1eb8315d-9ec0-4579-85de-bb1f575f35ab",
        "colab": {
          "base_uri": "https://localhost:8080/"
        }
      },
      "execution_count": 65,
      "outputs": [
        {
          "output_type": "stream",
          "name": "stdout",
          "text": [
            "La lista lugares es \n",
            "['macchupichu', 'huacachina']\n",
            "La lista lugares actualizada es \n",
            "['macchupichu', 'huacachina']\n"
          ]
        }
      ]
    },
    {
      "cell_type": "code",
      "source": [
        "print(f\"La lista marcas es \\n{marcas}\")\n",
        "marcas.sort(reverse=True)\n",
        "print(f\"La lista marcas actualizada es \\n{marcas}\")"
      ],
      "metadata": {
        "id": "OMAc79N7e-rA",
        "outputId": "14d5f744-d507-4912-c245-7a9960e3d0fe",
        "colab": {
          "base_uri": "https://localhost:8080/"
        }
      },
      "execution_count": 68,
      "outputs": [
        {
          "output_type": "stream",
          "name": "stdout",
          "text": [
            "La lista marcas es \n",
            "['nike', 'adidas', 'hoka', 'puma']\n",
            "La lista marcas actualizada es \n",
            "['puma', 'nike', 'hoka', 'adidas']\n"
          ]
        }
      ]
    },
    {
      "cell_type": "code",
      "source": [
        "print(f\"La lista marcas es \\n{marcas}\")\n",
        "marcas.sort()\n",
        "print(f\"La lista marcas actualizada es \\n{marcas}\")"
      ],
      "metadata": {
        "id": "E0ANe36GfOw-",
        "outputId": "f16077d9-f14a-4b91-b6ce-b53e4fd328c1",
        "colab": {
          "base_uri": "https://localhost:8080/"
        }
      },
      "execution_count": 69,
      "outputs": [
        {
          "output_type": "stream",
          "name": "stdout",
          "text": [
            "La lista marcas es \n",
            "['puma', 'nike', 'hoka', 'adidas']\n",
            "La lista marcas actualizada es \n",
            "['adidas', 'hoka', 'nike', 'puma']\n"
          ]
        }
      ]
    },
    {
      "cell_type": "markdown",
      "source": [
        "### Actividad N012"
      ],
      "metadata": {
        "id": "jJh7CDJO_s2r"
      }
    },
    {
      "cell_type": "code",
      "source": [
        "## SOLUCIÓN ACTIVIDAD N012\n",
        "marcas = ['nike','adidas','asics','hoka','puma']"
      ],
      "metadata": {
        "id": "vvPtDflm_cNf"
      },
      "execution_count": 72,
      "outputs": []
    },
    {
      "cell_type": "code",
      "source": [
        "print(f\"La lista marcas es \\n{marcas}\")\n",
        "print(f\"La lista marcas actualizada es \\n{sorted(marcas)}\")"
      ],
      "metadata": {
        "id": "9nm7VKAyhTAC",
        "outputId": "af28ec07-1881-4981-b75b-86dff99c52d9",
        "colab": {
          "base_uri": "https://localhost:8080/"
        }
      },
      "execution_count": 73,
      "outputs": [
        {
          "output_type": "stream",
          "name": "stdout",
          "text": [
            "La lista marcas es \n",
            "['nike', 'adidas', 'asics', 'hoka', 'puma']\n",
            "La lista marcas actualizada es \n",
            "['adidas', 'asics', 'hoka', 'nike', 'puma']\n"
          ]
        }
      ]
    },
    {
      "cell_type": "code",
      "source": [
        "print(f\"La lista marcas es \\n{marcas}\")\n",
        "print(f\"La lista marcas actualizada es \\n{sorted(marcas,reverse=True)}\")"
      ],
      "metadata": {
        "id": "YdVY7fEvh0nD",
        "outputId": "13c696e3-4dc3-491f-88b0-f4649f459992",
        "colab": {
          "base_uri": "https://localhost:8080/"
        }
      },
      "execution_count": 74,
      "outputs": [
        {
          "output_type": "stream",
          "name": "stdout",
          "text": [
            "La lista marcas es \n",
            "['nike', 'adidas', 'asics', 'hoka', 'puma']\n",
            "La lista marcas actualizada es \n",
            "['puma', 'nike', 'hoka', 'asics', 'adidas']\n"
          ]
        }
      ]
    },
    {
      "cell_type": "markdown",
      "source": [
        "### De manera temporal"
      ],
      "metadata": {
        "id": "gpQQQ2ZU_6tG"
      }
    },
    {
      "cell_type": "code",
      "source": [
        "print(f\"La lista lugares es \\n{lugares}\")\n",
        "print(f\"La lista lugares actualizada es \\n{sorted(lugares)}\")"
      ],
      "metadata": {
        "id": "8V88UcQL_5Qb",
        "outputId": "88078443-25f4-407f-c23c-e89f96ff624a",
        "colab": {
          "base_uri": "https://localhost:8080/"
        }
      },
      "execution_count": 70,
      "outputs": [
        {
          "output_type": "stream",
          "name": "stdout",
          "text": [
            "La lista lugares es \n",
            "['macchupichu', 'huacachina']\n",
            "La lista lugares actualizada es \n",
            "['huacachina', 'macchupichu']\n"
          ]
        }
      ]
    },
    {
      "cell_type": "code",
      "source": [
        "print(f\"La lista lugares es \\n{lugares}\")\n",
        "print(f\"La lista lugares actualizada es \\n{sorted(lugares,reverse=True)}\")"
      ],
      "metadata": {
        "id": "NbIEj-qrAI5R",
        "outputId": "c61c03d8-71a2-423e-ee0c-33de6d51ac76",
        "colab": {
          "base_uri": "https://localhost:8080/"
        }
      },
      "execution_count": 71,
      "outputs": [
        {
          "output_type": "stream",
          "name": "stdout",
          "text": [
            "La lista lugares es \n",
            "['macchupichu', 'huacachina']\n",
            "La lista lugares actualizada es \n",
            "['macchupichu', 'huacachina']\n"
          ]
        }
      ]
    },
    {
      "cell_type": "markdown",
      "source": [
        "### Actividad N013"
      ],
      "metadata": {
        "id": "rDQF6aidAYLm"
      }
    },
    {
      "cell_type": "code",
      "source": [
        "## SOLUCIÓN ACTIVIDAD N013\n"
      ],
      "metadata": {
        "id": "5gUbMvDKAQs2"
      },
      "execution_count": null,
      "outputs": []
    },
    {
      "cell_type": "markdown",
      "source": [
        "## [9] Invertir los elementos de una lista"
      ],
      "metadata": {
        "id": "TCzgVFc2Adgi"
      }
    },
    {
      "cell_type": "code",
      "source": [
        "print(f\"La lista materias es \\n{materias}\")\n",
        "materias.reverse()\n",
        "print(f\"La lista materias actualizada es \\n{materias}\")"
      ],
      "metadata": {
        "id": "VfMEiCyEAb4e"
      },
      "execution_count": null,
      "outputs": []
    },
    {
      "cell_type": "markdown",
      "source": [
        "### Actividad N014"
      ],
      "metadata": {
        "id": "BnpGEyXRAy9X"
      }
    },
    {
      "cell_type": "code",
      "source": [
        "## SOLUCIÓN ACTIVIDAD N014\n"
      ],
      "metadata": {
        "id": "alT3g_kjAu_F"
      },
      "execution_count": null,
      "outputs": []
    },
    {
      "cell_type": "markdown",
      "source": [
        "## [10] Cuantificar los elementos de una lista"
      ],
      "metadata": {
        "id": "sQVSPLHcA53H"
      }
    },
    {
      "cell_type": "code",
      "source": [
        "print(f\"La lista lugares es \\n{lugares}\")\n",
        "print(f\"La cantidad de elementos de la lista lugares es {len(lugares)}\")"
      ],
      "metadata": {
        "id": "yW0-j-EaA4E0"
      },
      "execution_count": null,
      "outputs": []
    },
    {
      "cell_type": "markdown",
      "source": [
        "### Actividad N015"
      ],
      "metadata": {
        "id": "roDrSGHjBI-x"
      }
    },
    {
      "cell_type": "code",
      "source": [
        "## SOLUCIÓN ACTIVIDAD N015\n"
      ],
      "metadata": {
        "id": "wXYtA8HzBG-6"
      },
      "execution_count": null,
      "outputs": []
    },
    {
      "cell_type": "code",
      "source": [],
      "metadata": {
        "id": "izy_t_MQBNny"
      },
      "execution_count": null,
      "outputs": []
    }
  ]
}