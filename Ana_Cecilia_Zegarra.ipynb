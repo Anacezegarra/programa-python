{
  "nbformat": 4,
  "nbformat_minor": 0,
  "metadata": {
    "colab": {
      "provenance": [],
      "authorship_tag": "ABX9TyPC4UB+9Yq52OTjPo/SPrY+",
      "include_colab_link": true
    },
    "kernelspec": {
      "name": "python3",
      "display_name": "Python 3"
    },
    "language_info": {
      "name": "python"
    }
  },
  "cells": [
    {
      "cell_type": "markdown",
      "metadata": {
        "id": "view-in-github",
        "colab_type": "text"
      },
      "source": [
        "<a href=\"https://colab.research.google.com/github/Anacezegarra/programa-python/blob/main/Ana_Cecilia_Zegarra.ipynb\" target=\"_parent\"><img src=\"https://colab.research.google.com/assets/colab-badge.svg\" alt=\"Open In Colab\"/></a>"
      ]
    },
    {
      "cell_type": "markdown",
      "source": [
        "Crea una lista llamada numeros_pares que contenga los números del 1 al 100 con saltos de 2 en 2"
      ],
      "metadata": {
        "id": "AzEwExgQMLC9"
      }
    },
    {
      "cell_type": "code",
      "execution_count": 4,
      "metadata": {
        "colab": {
          "base_uri": "https://localhost:8080/"
        },
        "id": "zAwA7RVqL1mu",
        "outputId": "53eb3ae7-6e3e-4846-94d8-96ebe786651c"
      },
      "outputs": [
        {
          "output_type": "stream",
          "name": "stdout",
          "text": [
            "[2, 4, 6, 8, 10, 12, 14, 16, 18, 20, 22, 24, 26, 28, 30, 32, 34, 36, 38, 40, 42, 44, 46, 48, 50, 52, 54, 56, 58, 60, 62, 64, 66, 68, 70, 72, 74, 76, 78, 80, 82, 84, 86, 88, 90, 92, 94, 96, 98, 100]\n"
          ]
        },
        {
          "output_type": "execute_result",
          "data": {
            "text/plain": [
              "list"
            ]
          },
          "metadata": {},
          "execution_count": 4
        }
      ],
      "source": [
        "numeros_pares = list(range(2, 101, 2))\n",
        "print(numeros_pares)\n",
        "type(numeros_pares)"
      ]
    },
    {
      "cell_type": "markdown",
      "source": [
        "Agrega los números 102, 104 y 106 al final de la lista numeros_pares y luego\n",
        "elimina los primeros 5 números de la lista numeros_pares. Muestra la lista\n",
        "resultante"
      ],
      "metadata": {
        "id": "ZUSSbpvqMSOf"
      }
    },
    {
      "cell_type": "code",
      "source": [
        "numeros_pares.append(102)\n",
        "numeros_pares.append(104)\n",
        "numeros_pares.append(106)\n",
        "print(numeros_pares)"
      ],
      "metadata": {
        "colab": {
          "base_uri": "https://localhost:8080/"
        },
        "id": "4RdyBA9kMXfh",
        "outputId": "5d8b00b7-f805-441c-f364-66a1cee21010"
      },
      "execution_count": 5,
      "outputs": [
        {
          "output_type": "stream",
          "name": "stdout",
          "text": [
            "[2, 4, 6, 8, 10, 12, 14, 16, 18, 20, 22, 24, 26, 28, 30, 32, 34, 36, 38, 40, 42, 44, 46, 48, 50, 52, 54, 56, 58, 60, 62, 64, 66, 68, 70, 72, 74, 76, 78, 80, 82, 84, 86, 88, 90, 92, 94, 96, 98, 100, 102, 104, 106]\n"
          ]
        }
      ]
    },
    {
      "cell_type": "code",
      "source": [
        "del numeros_pares[:5]\n",
        "print(numeros_pares)"
      ],
      "metadata": {
        "colab": {
          "base_uri": "https://localhost:8080/"
        },
        "id": "dgQXrR_pMukS",
        "outputId": "6c40da37-ff63-4349-e44f-2a5332fe8123"
      },
      "execution_count": 6,
      "outputs": [
        {
          "output_type": "stream",
          "name": "stdout",
          "text": [
            "[12, 14, 16, 18, 20, 22, 24, 26, 28, 30, 32, 34, 36, 38, 40, 42, 44, 46, 48, 50, 52, 54, 56, 58, 60, 62, 64, 66, 68, 70, 72, 74, 76, 78, 80, 82, 84, 86, 88, 90, 92, 94, 96, 98, 100, 102, 104, 106]\n"
          ]
        }
      ]
    },
    {
      "cell_type": "markdown",
      "source": [
        "Crea una lista llamada resultante que contenga la raíz cuadrada de cada\n",
        "elemento de la lista numeros_pares usando list comprehension."
      ],
      "metadata": {
        "id": "nCpyA7f4MmWz"
      }
    },
    {
      "cell_type": "code",
      "source": [
        "import math\n",
        "resultante = [math.sqrt(numero) for numero in numeros_pares]\n",
        "print(resultante)"
      ],
      "metadata": {
        "colab": {
          "base_uri": "https://localhost:8080/"
        },
        "id": "rAw6XiXAMrHA",
        "outputId": "2da307a0-1423-4397-9ca3-c4bb21f1362a"
      },
      "execution_count": 7,
      "outputs": [
        {
          "output_type": "stream",
          "name": "stdout",
          "text": [
            "[3.4641016151377544, 3.7416573867739413, 4.0, 4.242640687119285, 4.47213595499958, 4.69041575982343, 4.898979485566356, 5.0990195135927845, 5.291502622129181, 5.477225575051661, 5.656854249492381, 5.830951894845301, 6.0, 6.164414002968976, 6.324555320336759, 6.48074069840786, 6.6332495807108, 6.782329983125268, 6.928203230275509, 7.0710678118654755, 7.211102550927978, 7.3484692283495345, 7.483314773547883, 7.615773105863909, 7.745966692414834, 7.874007874011811, 8.0, 8.12403840463596, 8.246211251235321, 8.366600265340756, 8.48528137423857, 8.602325267042627, 8.717797887081348, 8.831760866327848, 8.94427190999916, 9.055385138137417, 9.16515138991168, 9.273618495495704, 9.38083151964686, 9.486832980505138, 9.591663046625438, 9.695359714832659, 9.797958971132712, 9.899494936611665, 10.0, 10.099504938362077, 10.198039027185569, 10.295630140987]\n"
          ]
        }
      ]
    },
    {
      "cell_type": "markdown",
      "source": [
        "Dada la siguiente tupla tupla_x = (“alumno”,”Pedro”,15), desempaqueta la\n",
        "tupla tupla_x en tres variables: x, y, z, e imprime la siguiente estructura “El\n",
        "alumno Pedro obtuvo la calificación de 15 usando las variables x, y, z”."
      ],
      "metadata": {
        "id": "LLOfSLhx6duz"
      }
    },
    {
      "cell_type": "code",
      "source": [
        "tupla_x = (\"alumno\", \"Pedro\", 15)\n",
        "x, y, z = tupla_x\n",
        "print(f\"El {x} {y}  obtuvo la calificación de {z}\")"
      ],
      "metadata": {
        "colab": {
          "base_uri": "https://localhost:8080/"
        },
        "id": "u2P0_psv6ffR",
        "outputId": "d60888e0-b8a8-4e20-e1cc-93882f60e093"
      },
      "execution_count": 8,
      "outputs": [
        {
          "output_type": "stream",
          "name": "stdout",
          "text": [
            "El alumno Pedro  obtuvo la calificación de 15\n"
          ]
        }
      ]
    },
    {
      "cell_type": "markdown",
      "source": [
        "Dado el siguiente diccionario notas = {“Programacion”:15.9,\n",
        "“Matematica”: 15.1, “Fisica”:15.6}, escribe un bucle for que imprima\n",
        "cada clave y su valor en el diccionario con la siguiente estructura “Mis\n",
        "calificaciones en el curso de Programacion es 15.9”"
      ],
      "metadata": {
        "id": "U3oDM-KK651-"
      }
    },
    {
      "cell_type": "code",
      "source": [
        "notas = {\n",
        "    \"Programacion\": 15.9,\n",
        "    \"Matematica\": 15.1,\n",
        "    \"Fisica\": 15.6\n",
        "}\n",
        "for curso, nota in notas.items():\n",
        "  print(f\"Mis calificaciones en el curso de {curso} es {nota}\")"
      ],
      "metadata": {
        "colab": {
          "base_uri": "https://localhost:8080/"
        },
        "id": "aNSqRoiS67bP",
        "outputId": "58fb87e7-47c5-4c04-f260-9680b54125d9"
      },
      "execution_count": 9,
      "outputs": [
        {
          "output_type": "stream",
          "name": "stdout",
          "text": [
            "Mis calificaciones en el curso de Programacion es 15.9\n",
            "Mis calificaciones en el curso de Matematica es 15.1\n",
            "Mis calificaciones en el curso de Fisica es 15.6\n"
          ]
        }
      ]
    },
    {
      "cell_type": "markdown",
      "source": [
        "Crea una matriz 1D que contenga los primeros 16 elementos de la lista\n",
        "numeros_pares (creada en la pregunta 1), modifique las dimensiones y\n",
        "convertiela en una matriz 2D con shape(4,4), calcula la suma total de los\n",
        "elementos de la matriz matriz 2D."
      ],
      "metadata": {
        "id": "3yj0Ea4c7Unh"
      }
    },
    {
      "cell_type": "code",
      "source": [
        "primeros_16 = numeros_pares[:16]\n",
        "print(primeros_16)"
      ],
      "metadata": {
        "colab": {
          "base_uri": "https://localhost:8080/"
        },
        "id": "3k5wt8Cg7Von",
        "outputId": "e20b0e62-84f5-443f-a1a2-d51fd3e4e0b6"
      },
      "execution_count": 10,
      "outputs": [
        {
          "output_type": "stream",
          "name": "stdout",
          "text": [
            "[12, 14, 16, 18, 20, 22, 24, 26, 28, 30, 32, 34, 36, 38, 40, 42]\n"
          ]
        }
      ]
    },
    {
      "cell_type": "code",
      "source": [
        "import numpy as np\n",
        "matriz_1d = np.array(primeros_16)\n",
        "print(matriz_1d)"
      ],
      "metadata": {
        "colab": {
          "base_uri": "https://localhost:8080/"
        },
        "id": "XJYSAMiX7r9Q",
        "outputId": "dfad16da-e102-4dc6-adf2-a7d2289add3e"
      },
      "execution_count": 11,
      "outputs": [
        {
          "output_type": "stream",
          "name": "stdout",
          "text": [
            "[12 14 16 18 20 22 24 26 28 30 32 34 36 38 40 42]\n"
          ]
        }
      ]
    },
    {
      "cell_type": "code",
      "source": [
        "matriz_2d = matriz_1d.reshape(4,4)\n",
        "print(matriz_2d)"
      ],
      "metadata": {
        "colab": {
          "base_uri": "https://localhost:8080/"
        },
        "id": "02D_9P1I7y74",
        "outputId": "55c28460-6b0c-454c-9331-7e1f436f7974"
      },
      "execution_count": 12,
      "outputs": [
        {
          "output_type": "stream",
          "name": "stdout",
          "text": [
            "[[12 14 16 18]\n",
            " [20 22 24 26]\n",
            " [28 30 32 34]\n",
            " [36 38 40 42]]\n"
          ]
        }
      ]
    },
    {
      "cell_type": "code",
      "source": [
        "suma_matriz = matriz_2d.sum()\n",
        "print(suma_matriz)"
      ],
      "metadata": {
        "colab": {
          "base_uri": "https://localhost:8080/"
        },
        "id": "axBZtp5677Fv",
        "outputId": "9fef78d4-764e-4b54-a950-6305f5c91525"
      },
      "execution_count": 13,
      "outputs": [
        {
          "output_type": "stream",
          "name": "stdout",
          "text": [
            "432\n"
          ]
        }
      ]
    },
    {
      "cell_type": "markdown",
      "source": [
        "Leer el archivo datosDemograficos.xlsx y realice un análisis descriptivo en\n",
        "función de las variables más relevantes.\n"
      ],
      "metadata": {
        "id": "2SC6RyAZ8BM6"
      }
    },
    {
      "cell_type": "code",
      "source": [
        "import pandas as pd\n",
        "import numpy as np\n",
        "import matplotlib.pyplot as plt\n",
        "import seaborn as sns"
      ],
      "metadata": {
        "id": "2aEkhJgZ8EHo"
      },
      "execution_count": 14,
      "outputs": []
    },
    {
      "cell_type": "code",
      "source": [
        "d = pd.read_excel('/content/datosDemograficos (1).xlsx')"
      ],
      "metadata": {
        "id": "3ORfP-oM8MSh"
      },
      "execution_count": 15,
      "outputs": []
    },
    {
      "cell_type": "code",
      "source": [
        "d.head()"
      ],
      "metadata": {
        "colab": {
          "base_uri": "https://localhost:8080/",
          "height": 226
        },
        "id": "vrjXKmb-8fIy",
        "outputId": "424b632e-08fe-4828-d607-572f065cebf5"
      },
      "execution_count": 16,
      "outputs": [
        {
          "output_type": "execute_result",
          "data": {
            "text/plain": [
              "  Indicadores  Fecundidad  Mortalidad  TasaMortalidadxMil  EsperanzaVida  \\\n",
              "0        Puno       30108        9951                6.86          71.44   \n",
              "1  San Martín       16074        4889                5.63          72.45   \n",
              "2       Tacna        5605        1900                5.40          75.11   \n",
              "3      Tumbes        3924        1209                4.94          74.96   \n",
              "4     Ucayali        8872        3020                5.93          71.99   \n",
              "\n",
              "   EVSoloHombres  EVSoloMujeres  TasaMortalidadInfantilxMilNacidos  \\\n",
              "0          68.77          74.25                              26.82   \n",
              "1          69.65          75.40                              17.53   \n",
              "2          72.31          78.06                              11.77   \n",
              "3          72.09          77.98                              11.46   \n",
              "4          69.24          74.87                              21.07   \n",
              "\n",
              "   CrecimientoNatural  \n",
              "0               20157  \n",
              "1               11185  \n",
              "2                3705  \n",
              "3                2715  \n",
              "4                5852  "
            ],
            "text/html": [
              "\n",
              "  <div id=\"df-c76d8678-e3b1-4fcb-9f7f-490301ae43bf\" class=\"colab-df-container\">\n",
              "    <div>\n",
              "<style scoped>\n",
              "    .dataframe tbody tr th:only-of-type {\n",
              "        vertical-align: middle;\n",
              "    }\n",
              "\n",
              "    .dataframe tbody tr th {\n",
              "        vertical-align: top;\n",
              "    }\n",
              "\n",
              "    .dataframe thead th {\n",
              "        text-align: right;\n",
              "    }\n",
              "</style>\n",
              "<table border=\"1\" class=\"dataframe\">\n",
              "  <thead>\n",
              "    <tr style=\"text-align: right;\">\n",
              "      <th></th>\n",
              "      <th>Indicadores</th>\n",
              "      <th>Fecundidad</th>\n",
              "      <th>Mortalidad</th>\n",
              "      <th>TasaMortalidadxMil</th>\n",
              "      <th>EsperanzaVida</th>\n",
              "      <th>EVSoloHombres</th>\n",
              "      <th>EVSoloMujeres</th>\n",
              "      <th>TasaMortalidadInfantilxMilNacidos</th>\n",
              "      <th>CrecimientoNatural</th>\n",
              "    </tr>\n",
              "  </thead>\n",
              "  <tbody>\n",
              "    <tr>\n",
              "      <th>0</th>\n",
              "      <td>Puno</td>\n",
              "      <td>30108</td>\n",
              "      <td>9951</td>\n",
              "      <td>6.86</td>\n",
              "      <td>71.44</td>\n",
              "      <td>68.77</td>\n",
              "      <td>74.25</td>\n",
              "      <td>26.82</td>\n",
              "      <td>20157</td>\n",
              "    </tr>\n",
              "    <tr>\n",
              "      <th>1</th>\n",
              "      <td>San Martín</td>\n",
              "      <td>16074</td>\n",
              "      <td>4889</td>\n",
              "      <td>5.63</td>\n",
              "      <td>72.45</td>\n",
              "      <td>69.65</td>\n",
              "      <td>75.40</td>\n",
              "      <td>17.53</td>\n",
              "      <td>11185</td>\n",
              "    </tr>\n",
              "    <tr>\n",
              "      <th>2</th>\n",
              "      <td>Tacna</td>\n",
              "      <td>5605</td>\n",
              "      <td>1900</td>\n",
              "      <td>5.40</td>\n",
              "      <td>75.11</td>\n",
              "      <td>72.31</td>\n",
              "      <td>78.06</td>\n",
              "      <td>11.77</td>\n",
              "      <td>3705</td>\n",
              "    </tr>\n",
              "    <tr>\n",
              "      <th>3</th>\n",
              "      <td>Tumbes</td>\n",
              "      <td>3924</td>\n",
              "      <td>1209</td>\n",
              "      <td>4.94</td>\n",
              "      <td>74.96</td>\n",
              "      <td>72.09</td>\n",
              "      <td>77.98</td>\n",
              "      <td>11.46</td>\n",
              "      <td>2715</td>\n",
              "    </tr>\n",
              "    <tr>\n",
              "      <th>4</th>\n",
              "      <td>Ucayali</td>\n",
              "      <td>8872</td>\n",
              "      <td>3020</td>\n",
              "      <td>5.93</td>\n",
              "      <td>71.99</td>\n",
              "      <td>69.24</td>\n",
              "      <td>74.87</td>\n",
              "      <td>21.07</td>\n",
              "      <td>5852</td>\n",
              "    </tr>\n",
              "  </tbody>\n",
              "</table>\n",
              "</div>\n",
              "    <div class=\"colab-df-buttons\">\n",
              "\n",
              "  <div class=\"colab-df-container\">\n",
              "    <button class=\"colab-df-convert\" onclick=\"convertToInteractive('df-c76d8678-e3b1-4fcb-9f7f-490301ae43bf')\"\n",
              "            title=\"Convert this dataframe to an interactive table.\"\n",
              "            style=\"display:none;\">\n",
              "\n",
              "  <svg xmlns=\"http://www.w3.org/2000/svg\" height=\"24px\" viewBox=\"0 -960 960 960\">\n",
              "    <path d=\"M120-120v-720h720v720H120Zm60-500h600v-160H180v160Zm220 220h160v-160H400v160Zm0 220h160v-160H400v160ZM180-400h160v-160H180v160Zm440 0h160v-160H620v160ZM180-180h160v-160H180v160Zm440 0h160v-160H620v160Z\"/>\n",
              "  </svg>\n",
              "    </button>\n",
              "\n",
              "  <style>\n",
              "    .colab-df-container {\n",
              "      display:flex;\n",
              "      gap: 12px;\n",
              "    }\n",
              "\n",
              "    .colab-df-convert {\n",
              "      background-color: #E8F0FE;\n",
              "      border: none;\n",
              "      border-radius: 50%;\n",
              "      cursor: pointer;\n",
              "      display: none;\n",
              "      fill: #1967D2;\n",
              "      height: 32px;\n",
              "      padding: 0 0 0 0;\n",
              "      width: 32px;\n",
              "    }\n",
              "\n",
              "    .colab-df-convert:hover {\n",
              "      background-color: #E2EBFA;\n",
              "      box-shadow: 0px 1px 2px rgba(60, 64, 67, 0.3), 0px 1px 3px 1px rgba(60, 64, 67, 0.15);\n",
              "      fill: #174EA6;\n",
              "    }\n",
              "\n",
              "    .colab-df-buttons div {\n",
              "      margin-bottom: 4px;\n",
              "    }\n",
              "\n",
              "    [theme=dark] .colab-df-convert {\n",
              "      background-color: #3B4455;\n",
              "      fill: #D2E3FC;\n",
              "    }\n",
              "\n",
              "    [theme=dark] .colab-df-convert:hover {\n",
              "      background-color: #434B5C;\n",
              "      box-shadow: 0px 1px 3px 1px rgba(0, 0, 0, 0.15);\n",
              "      filter: drop-shadow(0px 1px 2px rgba(0, 0, 0, 0.3));\n",
              "      fill: #FFFFFF;\n",
              "    }\n",
              "  </style>\n",
              "\n",
              "    <script>\n",
              "      const buttonEl =\n",
              "        document.querySelector('#df-c76d8678-e3b1-4fcb-9f7f-490301ae43bf button.colab-df-convert');\n",
              "      buttonEl.style.display =\n",
              "        google.colab.kernel.accessAllowed ? 'block' : 'none';\n",
              "\n",
              "      async function convertToInteractive(key) {\n",
              "        const element = document.querySelector('#df-c76d8678-e3b1-4fcb-9f7f-490301ae43bf');\n",
              "        const dataTable =\n",
              "          await google.colab.kernel.invokeFunction('convertToInteractive',\n",
              "                                                    [key], {});\n",
              "        if (!dataTable) return;\n",
              "\n",
              "        const docLinkHtml = 'Like what you see? Visit the ' +\n",
              "          '<a target=\"_blank\" href=https://colab.research.google.com/notebooks/data_table.ipynb>data table notebook</a>'\n",
              "          + ' to learn more about interactive tables.';\n",
              "        element.innerHTML = '';\n",
              "        dataTable['output_type'] = 'display_data';\n",
              "        await google.colab.output.renderOutput(dataTable, element);\n",
              "        const docLink = document.createElement('div');\n",
              "        docLink.innerHTML = docLinkHtml;\n",
              "        element.appendChild(docLink);\n",
              "      }\n",
              "    </script>\n",
              "  </div>\n",
              "\n",
              "\n",
              "    <div id=\"df-c0e64ba3-7418-4dca-810b-3e31b6a3ff74\">\n",
              "      <button class=\"colab-df-quickchart\" onclick=\"quickchart('df-c0e64ba3-7418-4dca-810b-3e31b6a3ff74')\"\n",
              "                title=\"Suggest charts\"\n",
              "                style=\"display:none;\">\n",
              "\n",
              "<svg xmlns=\"http://www.w3.org/2000/svg\" height=\"24px\"viewBox=\"0 0 24 24\"\n",
              "     width=\"24px\">\n",
              "    <g>\n",
              "        <path d=\"M19 3H5c-1.1 0-2 .9-2 2v14c0 1.1.9 2 2 2h14c1.1 0 2-.9 2-2V5c0-1.1-.9-2-2-2zM9 17H7v-7h2v7zm4 0h-2V7h2v10zm4 0h-2v-4h2v4z\"/>\n",
              "    </g>\n",
              "</svg>\n",
              "      </button>\n",
              "\n",
              "<style>\n",
              "  .colab-df-quickchart {\n",
              "      --bg-color: #E8F0FE;\n",
              "      --fill-color: #1967D2;\n",
              "      --hover-bg-color: #E2EBFA;\n",
              "      --hover-fill-color: #174EA6;\n",
              "      --disabled-fill-color: #AAA;\n",
              "      --disabled-bg-color: #DDD;\n",
              "  }\n",
              "\n",
              "  [theme=dark] .colab-df-quickchart {\n",
              "      --bg-color: #3B4455;\n",
              "      --fill-color: #D2E3FC;\n",
              "      --hover-bg-color: #434B5C;\n",
              "      --hover-fill-color: #FFFFFF;\n",
              "      --disabled-bg-color: #3B4455;\n",
              "      --disabled-fill-color: #666;\n",
              "  }\n",
              "\n",
              "  .colab-df-quickchart {\n",
              "    background-color: var(--bg-color);\n",
              "    border: none;\n",
              "    border-radius: 50%;\n",
              "    cursor: pointer;\n",
              "    display: none;\n",
              "    fill: var(--fill-color);\n",
              "    height: 32px;\n",
              "    padding: 0;\n",
              "    width: 32px;\n",
              "  }\n",
              "\n",
              "  .colab-df-quickchart:hover {\n",
              "    background-color: var(--hover-bg-color);\n",
              "    box-shadow: 0 1px 2px rgba(60, 64, 67, 0.3), 0 1px 3px 1px rgba(60, 64, 67, 0.15);\n",
              "    fill: var(--button-hover-fill-color);\n",
              "  }\n",
              "\n",
              "  .colab-df-quickchart-complete:disabled,\n",
              "  .colab-df-quickchart-complete:disabled:hover {\n",
              "    background-color: var(--disabled-bg-color);\n",
              "    fill: var(--disabled-fill-color);\n",
              "    box-shadow: none;\n",
              "  }\n",
              "\n",
              "  .colab-df-spinner {\n",
              "    border: 2px solid var(--fill-color);\n",
              "    border-color: transparent;\n",
              "    border-bottom-color: var(--fill-color);\n",
              "    animation:\n",
              "      spin 1s steps(1) infinite;\n",
              "  }\n",
              "\n",
              "  @keyframes spin {\n",
              "    0% {\n",
              "      border-color: transparent;\n",
              "      border-bottom-color: var(--fill-color);\n",
              "      border-left-color: var(--fill-color);\n",
              "    }\n",
              "    20% {\n",
              "      border-color: transparent;\n",
              "      border-left-color: var(--fill-color);\n",
              "      border-top-color: var(--fill-color);\n",
              "    }\n",
              "    30% {\n",
              "      border-color: transparent;\n",
              "      border-left-color: var(--fill-color);\n",
              "      border-top-color: var(--fill-color);\n",
              "      border-right-color: var(--fill-color);\n",
              "    }\n",
              "    40% {\n",
              "      border-color: transparent;\n",
              "      border-right-color: var(--fill-color);\n",
              "      border-top-color: var(--fill-color);\n",
              "    }\n",
              "    60% {\n",
              "      border-color: transparent;\n",
              "      border-right-color: var(--fill-color);\n",
              "    }\n",
              "    80% {\n",
              "      border-color: transparent;\n",
              "      border-right-color: var(--fill-color);\n",
              "      border-bottom-color: var(--fill-color);\n",
              "    }\n",
              "    90% {\n",
              "      border-color: transparent;\n",
              "      border-bottom-color: var(--fill-color);\n",
              "    }\n",
              "  }\n",
              "</style>\n",
              "\n",
              "      <script>\n",
              "        async function quickchart(key) {\n",
              "          const quickchartButtonEl =\n",
              "            document.querySelector('#' + key + ' button');\n",
              "          quickchartButtonEl.disabled = true;  // To prevent multiple clicks.\n",
              "          quickchartButtonEl.classList.add('colab-df-spinner');\n",
              "          try {\n",
              "            const charts = await google.colab.kernel.invokeFunction(\n",
              "                'suggestCharts', [key], {});\n",
              "          } catch (error) {\n",
              "            console.error('Error during call to suggestCharts:', error);\n",
              "          }\n",
              "          quickchartButtonEl.classList.remove('colab-df-spinner');\n",
              "          quickchartButtonEl.classList.add('colab-df-quickchart-complete');\n",
              "        }\n",
              "        (() => {\n",
              "          let quickchartButtonEl =\n",
              "            document.querySelector('#df-c0e64ba3-7418-4dca-810b-3e31b6a3ff74 button');\n",
              "          quickchartButtonEl.style.display =\n",
              "            google.colab.kernel.accessAllowed ? 'block' : 'none';\n",
              "        })();\n",
              "      </script>\n",
              "    </div>\n",
              "\n",
              "    </div>\n",
              "  </div>\n"
            ],
            "application/vnd.google.colaboratory.intrinsic+json": {
              "type": "dataframe",
              "variable_name": "d",
              "summary": "{\n  \"name\": \"d\",\n  \"rows\": 25,\n  \"fields\": [\n    {\n      \"column\": \"Indicadores\",\n      \"properties\": {\n        \"dtype\": \"string\",\n        \"num_unique_values\": 25,\n        \"samples\": [\n          \"Pasco\",\n          \"Callao\",\n          \"Puno\"\n        ],\n        \"semantic_type\": \"\",\n        \"description\": \"\"\n      }\n    },\n    {\n      \"column\": \"Fecundidad\",\n      \"properties\": {\n        \"dtype\": \"number\",\n        \"std\": 30817,\n        \"min\": 2571,\n        \"max\": 163089,\n        \"num_unique_values\": 25,\n        \"samples\": [\n          6355,\n          15584,\n          30108\n        ],\n        \"semantic_type\": \"\",\n        \"description\": \"\"\n      }\n    },\n    {\n      \"column\": \"Mortalidad\",\n      \"properties\": {\n        \"dtype\": \"number\",\n        \"std\": 10451,\n        \"min\": 660,\n        \"max\": 55201,\n        \"num_unique_values\": 25,\n        \"samples\": [\n          1715,\n          5513,\n          9951\n        ],\n        \"semantic_type\": \"\",\n        \"description\": \"\"\n      }\n    },\n    {\n      \"column\": \"TasaMortalidadxMil\",\n      \"properties\": {\n        \"dtype\": \"number\",\n        \"std\": 0.5807765915353015,\n        \"min\": 4.54,\n        \"max\": 6.97,\n        \"num_unique_values\": 21,\n        \"samples\": [\n          6.86,\n          6.15,\n          6.97\n        ],\n        \"semantic_type\": \"\",\n        \"description\": \"\"\n      }\n    },\n    {\n      \"column\": \"EsperanzaVida\",\n      \"properties\": {\n        \"dtype\": \"number\",\n        \"std\": 2.375037683911563,\n        \"min\": 70.93,\n        \"max\": 78.38,\n        \"num_unique_values\": 25,\n        \"samples\": [\n          72.52,\n          78.38,\n          71.44\n        ],\n        \"semantic_type\": \"\",\n        \"description\": \"\"\n      }\n    },\n    {\n      \"column\": \"EVSoloHombres\",\n      \"properties\": {\n        \"dtype\": \"number\",\n        \"std\": 2.3154976426965623,\n        \"min\": 68.53,\n        \"max\": 75.68,\n        \"num_unique_values\": 25,\n        \"samples\": [\n          69.63,\n          75.68,\n          68.77\n        ],\n        \"semantic_type\": \"\",\n        \"description\": \"\"\n      }\n    },\n    {\n      \"column\": \"EVSoloMujeres\",\n      \"properties\": {\n        \"dtype\": \"number\",\n        \"std\": 2.4437657416372804,\n        \"min\": 73.45,\n        \"max\": 81.22,\n        \"num_unique_values\": 25,\n        \"samples\": [\n          75.56,\n          81.22,\n          74.25\n        ],\n        \"semantic_type\": \"\",\n        \"description\": \"\"\n      }\n    },\n    {\n      \"column\": \"TasaMortalidadInfantilxMilNacidos\",\n      \"properties\": {\n        \"dtype\": \"number\",\n        \"std\": 5.434434193179636,\n        \"min\": 7.81,\n        \"max\": 26.82,\n        \"num_unique_values\": 23,\n        \"samples\": [\n          7.81,\n          9.14,\n          26.82\n        ],\n        \"semantic_type\": \"\",\n        \"description\": \"\"\n      }\n    },\n    {\n      \"column\": \"CrecimientoNatural\",\n      \"properties\": {\n        \"dtype\": \"number\",\n        \"std\": 20409,\n        \"min\": 1566,\n        \"max\": 107888,\n        \"num_unique_values\": 25,\n        \"samples\": [\n          4640,\n          10071,\n          20157\n        ],\n        \"semantic_type\": \"\",\n        \"description\": \"\"\n      }\n    }\n  ]\n}"
            }
          },
          "metadata": {},
          "execution_count": 16
        }
      ]
    },
    {
      "cell_type": "code",
      "source": [
        "print(d.describe())"
      ],
      "metadata": {
        "colab": {
          "base_uri": "https://localhost:8080/"
        },
        "id": "cppE4M168kDF",
        "outputId": "3fcfecba-7bd1-481b-d6ef-d82452987b3f"
      },
      "execution_count": 18,
      "outputs": [
        {
          "output_type": "stream",
          "name": "stdout",
          "text": [
            "          Fecundidad   Mortalidad  TasaMortalidadxMil  EsperanzaVida  \\\n",
            "count      25.000000     25.00000           24.000000      25.000000   \n",
            "mean    22874.400000   7265.28000            5.711667      74.059600   \n",
            "std     30817.223005  10451.42713            0.580777       2.375038   \n",
            "min      2571.000000    660.00000            4.540000      70.930000   \n",
            "25%      8872.000000   2788.00000            5.397500      71.990000   \n",
            "50%     16074.000000   5234.00000            5.545000      73.290000   \n",
            "75%     24385.000000   8450.00000            5.985000      76.450000   \n",
            "max    163089.000000  55201.00000            6.970000      78.380000   \n",
            "\n",
            "       EVSoloHombres  EVSoloMujeres  TasaMortalidadInfantilxMilNacidos  \\\n",
            "count      25.000000      25.000000                          25.000000   \n",
            "mean       71.337200      76.919200                          16.984000   \n",
            "std         2.315498       2.443766                           5.434434   \n",
            "min        68.530000      73.450000                           7.810000   \n",
            "25%        69.240000      74.870000                          11.770000   \n",
            "50%        70.710000      76.000000                          16.890000   \n",
            "75%        73.650000      79.390000                          20.000000   \n",
            "max        75.680000      81.220000                          26.820000   \n",
            "\n",
            "       CrecimientoNatural  \n",
            "count           25.000000  \n",
            "mean         15609.120000  \n",
            "std          20409.736145  \n",
            "min           1566.000000  \n",
            "25%           5852.000000  \n",
            "50%          11452.000000  \n",
            "75%          16320.000000  \n",
            "max         107888.000000  \n"
          ]
        }
      ]
    },
    {
      "cell_type": "markdown",
      "source": [
        "**Fecundidad:** Promedio de 22,874 nacimientos, pero con una gran dispersión (std ≈ 30,817), hay territorios con tasas muy distintas entre sí. El rango va de 2,571 a 163,089.\n",
        "\n",
        "**Mortalidad:**(Promedio ≈ 7,265, std ≈ 10,451), con un máximo muy alto (55,201), con demasiada variabilidad lo que podría indicar la presencia de un outlier que represente una región con condiciones críticas.\n",
        "\n",
        "**General:** Media de 74.05 años, con un mínimo de 70.93 y máximo de 78.38. La dispersión es baja, lo que sugiere estabilidad general en las condiciones de vida.\n",
        "\n",
        "Hombres: Esperanza media ≈ 71.34 años.\n",
        "Mujeres: Esperanza media más alta, ≈ 76.92 años.\n",
        "\n",
        "Las mujeres viven, en promedio, 5.58 años más que los hombres.\n",
        "\n",
        "**Mortalidad nacidos:** Promedio de 16.98 muertes por mil nacidos, con un amplio rango de 7.81 a 26.82. Esto puede reflejar desigualdades importantes en acceso a servicios de salud para recién nacidos.\n",
        "\n",
        "**Crecimiento Natural:** Promedio 15,609 personas, pero con una gran desviación estándar (std ≈ 20,410), lo cual refleja un comportamiento muy desigual.\n",
        "\n",
        "El valor máximo (107,888) es muy alto comparado con el mínimo (1,566), lo que sugiere la existencia de una o varias regiones con un crecimiento demográfico exponencial."
      ],
      "metadata": {
        "id": "sydFblq59f4h"
      }
    },
    {
      "cell_type": "markdown",
      "source": [],
      "metadata": {
        "id": "p0Ibpek7_ziv"
      }
    }
  ]
}