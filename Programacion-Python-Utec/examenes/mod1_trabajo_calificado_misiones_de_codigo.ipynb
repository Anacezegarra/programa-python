{
  "nbformat": 4,
  "nbformat_minor": 0,
  "metadata": {
    "colab": {
      "provenance": [],
      "include_colab_link": true
    },
    "kernelspec": {
      "name": "python3",
      "display_name": "Python 3"
    },
    "language_info": {
      "name": "python"
    }
  },
  "cells": [
    {
      "cell_type": "markdown",
      "metadata": {
        "id": "view-in-github",
        "colab_type": "text"
      },
      "source": [
        "<a href=\"https://colab.research.google.com/github/Anacezegarra/programa-python/blob/main/Programacion-Python-Utec/examenes/mod1_trabajo_calificado_misiones_de_codigo.ipynb\" target=\"_parent\"><img src=\"https://colab.research.google.com/assets/colab-badge.svg\" alt=\"Open In Colab\"/></a>"
      ]
    },
    {
      "cell_type": "markdown",
      "source": [
        "<img src=\"https://posgrado.utec.edu.pe/sites/default/files/2023-08/Testimonial-home-2.jpg\" alt=\"HTML5 Icon\" width=\"900\" height=\"250\" >\n"
      ],
      "metadata": {
        "id": "dYz-CyepUcRS"
      }
    },
    {
      "cell_type": "markdown",
      "source": [
        "# **Trabajo Calificado: Misiones de Código**"
      ],
      "metadata": {
        "id": "tYd6BiWgUfLo"
      }
    },
    {
      "cell_type": "markdown",
      "source": [
        "**Contexto:**\n",
        "\n",
        "Eres desarrollador de un Simulador de Aventuras llamado Pythonia, un entorno virtual de entrenamiento diseñado para mejorar tus habilidades de programación. En este simulador, enfrentarás una serie de desafíos basados en situaciones de videojuegos y escenarios de aventura, donde deberás aplicar estructuras lógicas, condicionales, bucles y funciones para resolver problemas.\n",
        "\n"
      ],
      "metadata": {
        "id": "GtjjVTFRU6W1"
      }
    },
    {
      "cell_type": "markdown",
      "source": [
        "Cada ejercicio representa un reto independiente que simula eventos comunes en el desarrollo de videojuegos, sistemas de simulación y lógica de juegos interactivos."
      ],
      "metadata": {
        "id": "Ggayz2SXVXjt"
      }
    },
    {
      "cell_type": "markdown",
      "source": [
        "**Recomendaciones:**\n",
        "\n",
        "Utilizar buenas prácticas: comentarios, entradas y salidas limpias.\n",
        "\n",
        "Uso de funciones donde sea necesario."
      ],
      "metadata": {
        "id": "eAL1_dscUjd_"
      }
    },
    {
      "cell_type": "markdown",
      "source": [
        "**Ejercicio 1: Elige tu personaje (Variables y Entrada/Salida)**\n",
        "\n",
        "Crea un programa que permita al jugador elegir su personaje entre Mago, Guerrero o Arquero. Según la elección, muestra un mensaje personalizado con las estadísticas iniciales (vida, poder, defensa)."
      ],
      "metadata": {
        "id": "YpxJc_PoVc4c"
      }
    },
    {
      "cell_type": "code",
      "source": [
        "## INICIO DE CÓDIGO\n",
        "# Diccionario por cada personaje\n",
        "mago = {\n",
        "    \"vida\": 70,\n",
        "    \"poder\": 90,\n",
        "    \"defensa\": 40\n",
        "}\n",
        "\n",
        "guerrero = {\n",
        "    \"vida\": 100,\n",
        "    \"poder\": 60,\n",
        "    \"defensa\": 80\n",
        "}\n",
        "\n",
        "arquero = {\n",
        "    \"vida\": 80,\n",
        "    \"poder\": 75,\n",
        "    \"defensa\": 60\n",
        "}\n",
        "\n",
        "# Diccionario de personajes\n",
        "personajes = {\n",
        "    \"Mago\": mago,\n",
        "    \"Guerrero\": guerrero,\n",
        "    \"Arquero\": arquero\n",
        "}\n",
        "\n",
        "def estadisticas_personajes(personaje):\n",
        "    personaje = personajes.get(personaje)\n",
        "    if personaje:\n",
        "        print(f\"¡Eres {personaje}!\")\n",
        "        print(f\"vida: {personaje['vida']}\")\n",
        "        print(f\"poder: {personaje['poder']}\")\n",
        "        print(f\"defensa: {personaje['defensa']}\")\n",
        "    else:\n",
        "        print(\"Elegiste un personaje que no existe. Vuelve a intentarlo\")\n",
        "\n",
        "# Mostrar mensaje inicial\n",
        "\n",
        "print(\"Bienvenido/a elige un personaje para iniciar el juego aquí\")\n",
        "elige_personaje = input(\"Ingresa tu personaje, puede ser Mago, Guerrero o Arquero: \").capitalize()\n",
        "\n",
        "estadisticas_personajes(elige_personaje)\n",
        "\n",
        "\n",
        "## FIN DE CÓDIGO"
      ],
      "metadata": {
        "id": "GZrzl-7wVfkW",
        "outputId": "51d0ebcb-06b3-4db5-9069-9669ef5333e8",
        "colab": {
          "base_uri": "https://localhost:8080/"
        }
      },
      "execution_count": 3,
      "outputs": [
        {
          "output_type": "stream",
          "name": "stdout",
          "text": [
            "Bienvenido/a elige un personaje para iniciar el juego aquí\n",
            "Ingresa tu personaje, puede ser Mago, Guerrero o Arquero: Mago\n",
            "¡Eres {'vida': 70, 'poder': 90, 'defensa': 40}!\n",
            "vida: 70\n",
            "poder: 90\n",
            "defensa: 40\n"
          ]
        }
      ]
    },
    {
      "cell_type": "markdown",
      "source": [
        "**Ejercicio 2: La prueba del sabio (Condicionales)**\n",
        "\n",
        "El sabio te hace una pregunta: si traes menos de 50 monedas de oro, te expulsará; si llevas entre 50 y 100, te permitirá pasar; si llevas más de 100, te dará una poción.\n",
        "Crea el programa que lea las monedas y muestre el resultado."
      ],
      "metadata": {
        "id": "kvoGwX-QVgPr"
      }
    },
    {
      "cell_type": "code",
      "execution_count": 1,
      "metadata": {
        "id": "3tg6KSK-UbUw",
        "colab": {
          "base_uri": "https://localhost:8080/"
        },
        "outputId": "795de638-85a7-46f1-9deb-04af4e87ed4e"
      },
      "outputs": [
        {
          "output_type": "stream",
          "name": "stdout",
          "text": [
            "¿Cuántas monedas tienes? 60\n",
            "Continua\n"
          ]
        }
      ],
      "source": [
        "## INICIO DE CÓDIGO\n",
        "\n",
        "monedas = int(input(\"¿Cuántas monedas tienes? \"))\n",
        "if monedas < 50:\n",
        "    print(\"Fuera de juego\")\n",
        "elif monedas <= 100:\n",
        "    print(\"Continua\")\n",
        "elif monedas > 100:\n",
        "  print(\"Ten una poción\")\n",
        "else :\n",
        "  print(\"Intentalo de nuevo\")\n",
        "\n",
        "## FIN DE CÓDIGO"
      ]
    },
    {
      "cell_type": "markdown",
      "source": [
        "**Ejercicio 3: El puente infinito (Bucles While)**\n",
        "\n",
        "Diseña un programa que simule el cruce de un puente que cambia su estructura aleatoriamente. El jugador debe adivinar si el siguiente paso será seguro ('s') o peligroso ('p').\n",
        "El juego termina si el jugador elige 'salir' o si falla 3 veces."
      ],
      "metadata": {
        "id": "g7B02fWhVj4M"
      }
    },
    {
      "cell_type": "code",
      "source": [
        "## INICIO DE CÓDIGO\n",
        "\n",
        "import random\n",
        "\n",
        "error = 0\n",
        "error_max = 3\n",
        "\n",
        "while error <= error_max :\n",
        "  puente = random.choice(['s','p'])\n",
        "  intento = input(\"¿El siguiente paso es seguro o peligro?\").lower().strip()\n",
        "\n",
        "  if intento == \"salir\" :\n",
        "   print(\"\")\n",
        "   break\n",
        "  elif intento not in ['s','p'] :\n",
        "    print(\"no es un opciòn válida\")\n",
        "    continue\n",
        "\n",
        "  if intento==puente :\n",
        "    print(\"continua\")\n",
        "  else:\n",
        "    error += 1\n",
        "    print(\"fallaste\")\n",
        "\n",
        "  if error >= error_max :\n",
        "    print(\"final del juego\")\n",
        "    break\n",
        "\n",
        "\n",
        "## FIN DE CÓDIGO"
      ],
      "metadata": {
        "id": "9DRMWhDBVn71",
        "colab": {
          "base_uri": "https://localhost:8080/",
          "height": 400
        },
        "outputId": "eef573ef-6a73-434f-8aca-94121b0fdc94"
      },
      "execution_count": 3,
      "outputs": [
        {
          "output_type": "stream",
          "name": "stdout",
          "text": [
            "¿El siguiente paso es seguro o peligro?p\n",
            "continua\n"
          ]
        },
        {
          "output_type": "error",
          "ename": "KeyboardInterrupt",
          "evalue": "Interrupted by user",
          "traceback": [
            "\u001b[0;31m---------------------------------------------------------------------------\u001b[0m",
            "\u001b[0;31mKeyboardInterrupt\u001b[0m                         Traceback (most recent call last)",
            "\u001b[0;32m<ipython-input-3-e35198b680ad>\u001b[0m in \u001b[0;36m<cell line: 0>\u001b[0;34m()\u001b[0m\n\u001b[1;32m      8\u001b[0m \u001b[0;32mwhile\u001b[0m \u001b[0merror\u001b[0m \u001b[0;34m<=\u001b[0m \u001b[0merror_max\u001b[0m \u001b[0;34m:\u001b[0m\u001b[0;34m\u001b[0m\u001b[0;34m\u001b[0m\u001b[0m\n\u001b[1;32m      9\u001b[0m   \u001b[0mpuente\u001b[0m \u001b[0;34m=\u001b[0m \u001b[0mrandom\u001b[0m\u001b[0;34m.\u001b[0m\u001b[0mchoice\u001b[0m\u001b[0;34m(\u001b[0m\u001b[0;34m[\u001b[0m\u001b[0;34m's'\u001b[0m\u001b[0;34m,\u001b[0m\u001b[0;34m'p'\u001b[0m\u001b[0;34m]\u001b[0m\u001b[0;34m)\u001b[0m\u001b[0;34m\u001b[0m\u001b[0;34m\u001b[0m\u001b[0m\n\u001b[0;32m---> 10\u001b[0;31m   \u001b[0mintento\u001b[0m \u001b[0;34m=\u001b[0m \u001b[0minput\u001b[0m\u001b[0;34m(\u001b[0m\u001b[0;34m\"¿El siguiente paso es seguro o peligro?\"\u001b[0m\u001b[0;34m)\u001b[0m\u001b[0;34m.\u001b[0m\u001b[0mlower\u001b[0m\u001b[0;34m(\u001b[0m\u001b[0;34m)\u001b[0m\u001b[0;34m.\u001b[0m\u001b[0mstrip\u001b[0m\u001b[0;34m(\u001b[0m\u001b[0;34m)\u001b[0m\u001b[0;34m\u001b[0m\u001b[0;34m\u001b[0m\u001b[0m\n\u001b[0m\u001b[1;32m     11\u001b[0m \u001b[0;34m\u001b[0m\u001b[0m\n\u001b[1;32m     12\u001b[0m   \u001b[0;32mif\u001b[0m \u001b[0mintento\u001b[0m \u001b[0;34m==\u001b[0m \u001b[0;34m\"salir\"\u001b[0m \u001b[0;34m:\u001b[0m\u001b[0;34m\u001b[0m\u001b[0;34m\u001b[0m\u001b[0m\n",
            "\u001b[0;32m/usr/local/lib/python3.11/dist-packages/ipykernel/kernelbase.py\u001b[0m in \u001b[0;36mraw_input\u001b[0;34m(self, prompt)\u001b[0m\n\u001b[1;32m   1175\u001b[0m                 \u001b[0;34m\"raw_input was called, but this frontend does not support input requests.\"\u001b[0m\u001b[0;34m\u001b[0m\u001b[0;34m\u001b[0m\u001b[0m\n\u001b[1;32m   1176\u001b[0m             )\n\u001b[0;32m-> 1177\u001b[0;31m         return self._input_request(\n\u001b[0m\u001b[1;32m   1178\u001b[0m             \u001b[0mstr\u001b[0m\u001b[0;34m(\u001b[0m\u001b[0mprompt\u001b[0m\u001b[0;34m)\u001b[0m\u001b[0;34m,\u001b[0m\u001b[0;34m\u001b[0m\u001b[0;34m\u001b[0m\u001b[0m\n\u001b[1;32m   1179\u001b[0m             \u001b[0mself\u001b[0m\u001b[0;34m.\u001b[0m\u001b[0m_parent_ident\u001b[0m\u001b[0;34m[\u001b[0m\u001b[0;34m\"shell\"\u001b[0m\u001b[0;34m]\u001b[0m\u001b[0;34m,\u001b[0m\u001b[0;34m\u001b[0m\u001b[0;34m\u001b[0m\u001b[0m\n",
            "\u001b[0;32m/usr/local/lib/python3.11/dist-packages/ipykernel/kernelbase.py\u001b[0m in \u001b[0;36m_input_request\u001b[0;34m(self, prompt, ident, parent, password)\u001b[0m\n\u001b[1;32m   1217\u001b[0m             \u001b[0;32mexcept\u001b[0m \u001b[0mKeyboardInterrupt\u001b[0m\u001b[0;34m:\u001b[0m\u001b[0;34m\u001b[0m\u001b[0;34m\u001b[0m\u001b[0m\n\u001b[1;32m   1218\u001b[0m                 \u001b[0;31m# re-raise KeyboardInterrupt, to truncate traceback\u001b[0m\u001b[0;34m\u001b[0m\u001b[0;34m\u001b[0m\u001b[0m\n\u001b[0;32m-> 1219\u001b[0;31m                 \u001b[0;32mraise\u001b[0m \u001b[0mKeyboardInterrupt\u001b[0m\u001b[0;34m(\u001b[0m\u001b[0;34m\"Interrupted by user\"\u001b[0m\u001b[0;34m)\u001b[0m \u001b[0;32mfrom\u001b[0m \u001b[0;32mNone\u001b[0m\u001b[0;34m\u001b[0m\u001b[0;34m\u001b[0m\u001b[0m\n\u001b[0m\u001b[1;32m   1220\u001b[0m             \u001b[0;32mexcept\u001b[0m \u001b[0mException\u001b[0m\u001b[0;34m:\u001b[0m\u001b[0;34m\u001b[0m\u001b[0;34m\u001b[0m\u001b[0m\n\u001b[1;32m   1221\u001b[0m                 \u001b[0mself\u001b[0m\u001b[0;34m.\u001b[0m\u001b[0mlog\u001b[0m\u001b[0;34m.\u001b[0m\u001b[0mwarning\u001b[0m\u001b[0;34m(\u001b[0m\u001b[0;34m\"Invalid Message:\"\u001b[0m\u001b[0;34m,\u001b[0m \u001b[0mexc_info\u001b[0m\u001b[0;34m=\u001b[0m\u001b[0;32mTrue\u001b[0m\u001b[0;34m)\u001b[0m\u001b[0;34m\u001b[0m\u001b[0;34m\u001b[0m\u001b[0m\n",
            "\u001b[0;31mKeyboardInterrupt\u001b[0m: Interrupted by user"
          ]
        }
      ]
    },
    {
      "cell_type": "markdown",
      "source": [
        "**Ejercicio 4: El laberinto secreto (Bucle For y Range)**\n",
        "\n",
        "Crea un programa que muestre una cuenta regresiva desde 10 hasta 1 al estilo nivel de escape del laberinto. Cada número debe ir acompañado de un mensaje tipo \"Quedan X segundos para escapar\"."
      ],
      "metadata": {
        "id": "66qKXQwTVoZG"
      }
    },
    {
      "cell_type": "code",
      "source": [
        "## INICIO DE CÓDIGO\n",
        "\n",
        "for i in range(10,0,-1):\n",
        "  print(f\"Tienes {i} segundos para escapar\")\n",
        "\n",
        "\n",
        "## FIN DE CÓDIGO"
      ],
      "metadata": {
        "id": "i1S9WPmhVsEj",
        "colab": {
          "base_uri": "https://localhost:8080/"
        },
        "outputId": "a4ada569-2278-463e-b69b-66ed59484c91"
      },
      "execution_count": 4,
      "outputs": [
        {
          "output_type": "stream",
          "name": "stdout",
          "text": [
            "Tienes 10 segundos para escapar\n",
            "Tienes 9 segundos para escapar\n",
            "Tienes 8 segundos para escapar\n",
            "Tienes 7 segundos para escapar\n",
            "Tienes 6 segundos para escapar\n",
            "Tienes 5 segundos para escapar\n",
            "Tienes 4 segundos para escapar\n",
            "Tienes 3 segundos para escapar\n",
            "Tienes 2 segundos para escapar\n",
            "Tienes 1 segundos para escapar\n"
          ]
        }
      ]
    },
    {
      "cell_type": "markdown",
      "source": [
        "**Ejercicio 5: Cofres encantados (Break y Continue)**\n",
        "\n",
        "Simula 10 cofres cerrados, pero uno de ellos es una trampa explosiva (elige aleatoriamente una posición).\n",
        "El jugador abre cofres uno por uno:\n",
        "\n",
        "* Si encuentra la trampa, termina el juego (break).\n",
        "\n",
        "* Si encuentra cofres vacíos, continúa (continue).\n",
        "\n",
        "* Si abre todos sin explotar, gana."
      ],
      "metadata": {
        "id": "5dL6C-x1VsYf"
      }
    },
    {
      "cell_type": "code",
      "source": [
        "## INICIO DE CÓDIGO\n",
        "\n",
        "import random\n",
        "cofres = 10\n",
        "trampa = random.randint(1,cofres)\n",
        "\n",
        "for i in range(1,cofres+1):\n",
        "  if i == trampa:\n",
        "    print(\"Game over\")\n",
        "    break\n",
        "  else:\n",
        "    print(f\"Cofre {i} vacío. Continua el juego\")\n",
        "\n",
        "\n",
        "## FIN DE CÓDIGO"
      ],
      "metadata": {
        "id": "d0hcbl0_V2BI",
        "colab": {
          "base_uri": "https://localhost:8080/"
        },
        "outputId": "49c5f183-e573-4bd6-8dc7-c31c060901ee"
      },
      "execution_count": 7,
      "outputs": [
        {
          "output_type": "stream",
          "name": "stdout",
          "text": [
            "Cofre 1 vacío. Continua el juego\n",
            "Cofre 2 vacío. Continua el juego\n",
            "Cofre 3 vacío. Continua el juego\n",
            "Cofre 4 vacío. Continua el juego\n",
            "Cofre 5 vacío. Continua el juego\n",
            "Cofre 6 vacío. Continua el juego\n",
            "Cofre 7 vacío. Continua el juego\n",
            "Cofre 8 vacío. Continua el juego\n",
            "Cofre 9 vacío. Continua el juego\n",
            "Game over\n"
          ]
        }
      ]
    },
    {
      "cell_type": "markdown",
      "source": [
        "**Ejercicio 6: Pociones mágicas (Funciones básicas)**\n",
        "\n",
        "Crea una función usar_pocion(tipo) que permita al jugador elegir entre 'vida', 'fuerza' o 'velocidad', y retorne el efecto de la poción.\n",
        "Luego, pide al usuario que elija una poción y muestra el resultado llamando a la función."
      ],
      "metadata": {
        "id": "94yOz-rKV2gp"
      }
    },
    {
      "cell_type": "code",
      "source": [
        "## INICIO DE CÓDIGO\n",
        "\n",
        "def usar_pocion(tipo):\n",
        "  if tipo == \"vida\":\n",
        "    return \"20 puntos\"\n",
        "  elif tipo == \"fuerza\":\n",
        "    return \"10 puntos\"\n",
        "  elif tipo == \"velocidad\":\n",
        "      return \"5 puntos\"\n",
        "  else:\n",
        "    return \"Poción inválida\"\n",
        "\n",
        "pocion = input(\"Elige una poción (vida, fuerza, velocidad): \")\n",
        "print(usar_pocion(pocion))\n",
        "\n",
        "\n",
        "## FIN DE CÓDIGO"
      ],
      "metadata": {
        "id": "NQKm0w5iV4Zz",
        "colab": {
          "base_uri": "https://localhost:8080/"
        },
        "outputId": "7fea92bc-e980-49d7-f6b1-914d4547038c"
      },
      "execution_count": 8,
      "outputs": [
        {
          "output_type": "stream",
          "name": "stdout",
          "text": [
            "Elige una poción (vida, fuerza, velocidad): vida\n",
            "20 puntos\n"
          ]
        }
      ]
    },
    {
      "cell_type": "markdown",
      "source": [
        "**Ejercicio 7: Calculadora de daño crítico (Funciones con parámetros)**\n",
        "\n",
        "Crea una función calcular_danio(base, critico) que reciba el daño base y un porcentaje de crítico, devolviendo el daño total.\n",
        "El usuario ingresará el daño base y el porcentaje crítico."
      ],
      "metadata": {
        "id": "Qdnbnm4nV44h"
      }
    },
    {
      "cell_type": "code",
      "source": [
        "## INICIO DE CÓDIGO\n",
        "\n",
        "def calcular_danio(base, critico):\n",
        "  return base * (1 + critico / 100)\n",
        "\n",
        "base = int(input(\"Ingresa el daño base: \"))\n",
        "critico = int(input(\"Ingresa el porcentaje critico: \"))\n",
        "print(f\"El daño total es: {calcular_danio(base, critico)}\")\n",
        "\n",
        "\n",
        "\n",
        "## FIN DE CÓDIGO"
      ],
      "metadata": {
        "id": "leaLQJWrV8Tx",
        "colab": {
          "base_uri": "https://localhost:8080/"
        },
        "outputId": "c0ca8902-b94a-4f8e-bd4f-ded8f064f772"
      },
      "execution_count": 9,
      "outputs": [
        {
          "output_type": "stream",
          "name": "stdout",
          "text": [
            "Ingresa el daño base: 40\n",
            "Ingresa el porcentaje critico: 5\n",
            "El daño total es: 42.0\n"
          ]
        }
      ]
    },
    {
      "cell_type": "markdown",
      "source": [
        "**Ejercicio 8: El desafío del dragón (Condicionales + funciones + bucles)**\n",
        "\n",
        "Diseña una función enfrentar_dragon(vida, fuerza) que simule el combate:\n",
        "\n",
        "* El jugador ataca al dragón y el dragón contraataca restando vida.\n",
        "\n",
        "* Si la vida llega a 0, el jugador pierde.\n",
        "\n",
        "* Si el jugador realiza 3 ataques consecutivos sin morir, gana.\n",
        "Usa un bucle while interno para el combate."
      ],
      "metadata": {
        "id": "d4j1ckE2V9ag"
      }
    },
    {
      "cell_type": "code",
      "source": [
        "## INICIO DE CÓDIGO\n",
        "\n",
        "def enfrentar_dragon(vida, fuerza):\n",
        "  ataques = 0\n",
        "  while vida > 0 and ataques < 3:\n",
        "    ataque = int(input(\"Ingresa ataque: \"))\n",
        "    vida -= ataque\n",
        "    print(f\"Vida del dragon: {vida}\")\n",
        "    ataques += 1\n",
        "  if vida <= 0:\n",
        "    print(\"Game over\")\n",
        "  else:\n",
        "    print(\"You win\")\n",
        "\n",
        "vida = 10\n",
        "fuerza = 5\n",
        "enfrentar_dragon(vida, fuerza)\n",
        "\n",
        "\n",
        "## FIN DE CÓDIGO"
      ],
      "metadata": {
        "id": "_CGyWwuaWByi",
        "colab": {
          "base_uri": "https://localhost:8080/"
        },
        "outputId": "6b01c5d9-d5a0-40eb-c5db-a4c1eee661b1"
      },
      "execution_count": 11,
      "outputs": [
        {
          "output_type": "stream",
          "name": "stdout",
          "text": [
            "Ingresa ataque: 5\n",
            "Vida del dragon: 5\n",
            "Ingresa ataque: 10\n",
            "Vida del dragon: -5\n",
            "Game over\n"
          ]
        }
      ]
    },
    {
      "cell_type": "markdown",
      "source": [
        "**Ejercicio 9: El camino del héroe (Recursividad sencilla)**\n",
        "\n",
        "Crea una función recursiva que simule el camino de un héroe cruzando N obstáculos, mostrando mensajes como:\n",
        "\n",
        "\"Obstáculo 3: saltando...\"\n",
        "\n",
        "Termina cuando N llegue a 0."
      ],
      "metadata": {
        "id": "8X5Y08fQWCFU"
      }
    },
    {
      "cell_type": "code",
      "source": [
        "## INICIO DE CÓDIGO\n",
        "\n",
        "def camino_heroe(n):\n",
        "  if n == 0:\n",
        "    print(\"¡Superaste los obstaculos!\")\n",
        "  else:\n",
        "    print(f\"Obstáculo {n}: saltando...\")\n",
        "    camino_heroe(n - 1)\n",
        "\n",
        "camino_heroe(5)\n",
        "\n",
        "\n",
        "## FIN DE CÓDIGO"
      ],
      "metadata": {
        "id": "vVDjZHSVWJdQ",
        "colab": {
          "base_uri": "https://localhost:8080/"
        },
        "outputId": "f07f5ab5-032f-4c66-e04e-5c684faf9825"
      },
      "execution_count": 13,
      "outputs": [
        {
          "output_type": "stream",
          "name": "stdout",
          "text": [
            "Obstáculo 5: saltando...\n",
            "Obstáculo 4: saltando...\n",
            "Obstáculo 3: saltando...\n",
            "Obstáculo 2: saltando...\n",
            "Obstáculo 1: saltando...\n",
            "¡Superaste los obstaculos!\n"
          ]
        }
      ]
    },
    {
      "cell_type": "markdown",
      "source": [
        "**Ejercicio 10: Torre de los hechizos (Reto Integrador Final)**\n",
        "\n",
        "Crea un programa completo que combine:\n",
        "\n",
        "* Elección de personaje.\n",
        "\n",
        "* Simulación de un combate contra un enemigo con vida y defensa.\n",
        "\n",
        "* Uso de funciones para calcular el daño.\n",
        "\n",
        "* Bucles para turnos de combate.\n",
        "\n",
        "* Uso de una función recursiva que simule las rondas como niveles (nivel 1, 2, 3 hasta ganar).\n",
        "\n"
      ],
      "metadata": {
        "id": "Behbpl_8WJzR"
      }
    },
    {
      "cell_type": "code",
      "source": [
        "## INICIO DE CÓDIGO\n",
        "\n",
        "import random\n",
        "\n",
        "# Elección de personaje\n",
        "def elegir_personaje():\n",
        "    personajes = {\n",
        "        \"Guerrero\": {\"vida\": 100, \"ataque\": 20},\n",
        "        \"Mago\": {\"vida\": 70, \"ataque\": 30},\n",
        "        \"Arquero\": {\"vida\": 80, \"ataque\": 25}\n",
        "    }\n",
        "\n",
        "    print(\"Elige tu personaje:\")\n",
        "    for nombre in personajes:\n",
        "        print(f\"- {nombre}\")\n",
        "\n",
        "    while True:\n",
        "        eleccion = input(\"Tu elección: \").capitalize()\n",
        "        if eleccion in personajes:\n",
        "            print(f\"Has elegido a {eleccion}.\\n\")\n",
        "            return personajes[eleccion], eleccion\n",
        "        else:\n",
        "            print(\"Personaje no válido. Intenta de nuevo.\")\n",
        "\n",
        "# Función para calcular daño\n",
        "def calcular_dano(ataque, defensa):\n",
        "    dano = ataque - defensa\n",
        "    return max(dano, 0)\n",
        "\n",
        "# Simulación de combate\n",
        "def combate(jugador, enemigo, nivel):\n",
        "    print(f\"\\n--- Nivel {nivel} ---\")\n",
        "    print(f\"¡Un {enemigo['nombre']} aparece con {enemigo['vida']} de vida y {enemigo['defensa']} de defensa!\")\n",
        "\n",
        "    while enemigo[\"vida\"] > 0 and jugador[\"vida\"] > 0:\n",
        "        input(\"\\nPresiona Enter para atacar...\")\n",
        "        dano = calcular_dano(jugador[\"ataque\"], enemigo[\"defensa\"])\n",
        "        enemigo[\"vida\"] -= dano\n",
        "        print(f\"Atacaste e hiciste {dano} de daño. Vida del enemigo: {max(enemigo['vida'], 0)}\")\n",
        "\n",
        "        if enemigo[\"vida\"] <= 0:\n",
        "            print(\"¡Has vencido al enemigo!\")\n",
        "            break\n",
        "\n",
        "        # Turno del enemigo\n",
        "        dano_enemigo = random.randint(5, 15)\n",
        "        jugador[\"vida\"] -= dano_enemigo\n",
        "        print(f\"El enemigo te ataca e inflige {dano_enemigo} de daño. Tu vida: {max(jugador['vida'], 0)}\")\n",
        "\n",
        "        if jugador[\"vida\"] <= 0:\n",
        "            print(\"¡Has sido derrotado!\")\n",
        "            return False\n",
        "\n",
        "    return True\n",
        "\n",
        "# Función recursiva para simular niveles\n",
        "def jugar_niveles(jugador, nivel=1):\n",
        "    if nivel > 3:\n",
        "        print(\"\\n¡Felicidades! Has completado todos los niveles.\")\n",
        "        return\n",
        "\n",
        "    enemigo = {\n",
        "        \"nombre\": f\"Enemigo Nivel {nivel}\",\n",
        "        \"vida\": 40 + nivel * 10,\n",
        "        \"defensa\": 5 + nivel * 2\n",
        "    }\n",
        "\n",
        "    exito = combate(jugador, enemigo, nivel)\n",
        "    if exito:\n",
        "        jugar_niveles(jugador, nivel + 1)\n",
        "    else:\n",
        "        print(\"\\nFin del juego. Intenta de nuevo.\")\n",
        "\n",
        "# Programa principal\n",
        "jugador, nombre = elegir_personaje()\n",
        "jugar_niveles(jugador)\n",
        "\n",
        "\n",
        "\n",
        "\n",
        "## FIN DE CÓDIGO"
      ],
      "metadata": {
        "id": "smtLq1SDWTJd",
        "colab": {
          "base_uri": "https://localhost:8080/"
        },
        "outputId": "6b43868b-12a6-4825-d5ba-d37e554239e1"
      },
      "execution_count": 14,
      "outputs": [
        {
          "output_type": "stream",
          "name": "stdout",
          "text": [
            "Elige tu personaje:\n",
            "- Guerrero\n",
            "- Mago\n",
            "- Arquero\n",
            "Tu elección: Mago\n",
            "Has elegido a Mago.\n",
            "\n",
            "\n",
            "--- Nivel 1 ---\n",
            "¡Un Enemigo Nivel 1 aparece con 50 de vida y 7 de defensa!\n",
            "\n",
            "Presiona Enter para atacar...\n",
            "Atacaste e hiciste 23 de daño. Vida del enemigo: 27\n",
            "El enemigo te ataca e inflige 5 de daño. Tu vida: 65\n",
            "\n",
            "Presiona Enter para atacar...40\n",
            "Atacaste e hiciste 23 de daño. Vida del enemigo: 4\n",
            "El enemigo te ataca e inflige 7 de daño. Tu vida: 58\n",
            "\n",
            "Presiona Enter para atacar...30\n",
            "Atacaste e hiciste 23 de daño. Vida del enemigo: 0\n",
            "¡Has vencido al enemigo!\n",
            "\n",
            "--- Nivel 2 ---\n",
            "¡Un Enemigo Nivel 2 aparece con 60 de vida y 9 de defensa!\n",
            "\n",
            "Presiona Enter para atacar...50\n",
            "Atacaste e hiciste 21 de daño. Vida del enemigo: 39\n",
            "El enemigo te ataca e inflige 6 de daño. Tu vida: 52\n",
            "\n",
            "Presiona Enter para atacar...80\n",
            "Atacaste e hiciste 21 de daño. Vida del enemigo: 18\n",
            "El enemigo te ataca e inflige 14 de daño. Tu vida: 38\n",
            "\n",
            "Presiona Enter para atacar...20\n",
            "Atacaste e hiciste 21 de daño. Vida del enemigo: 0\n",
            "¡Has vencido al enemigo!\n",
            "\n",
            "--- Nivel 3 ---\n",
            "¡Un Enemigo Nivel 3 aparece con 70 de vida y 11 de defensa!\n",
            "\n",
            "Presiona Enter para atacar...40\n",
            "Atacaste e hiciste 19 de daño. Vida del enemigo: 51\n",
            "El enemigo te ataca e inflige 12 de daño. Tu vida: 26\n",
            "\n",
            "Presiona Enter para atacar...20\n",
            "Atacaste e hiciste 19 de daño. Vida del enemigo: 32\n",
            "El enemigo te ataca e inflige 10 de daño. Tu vida: 16\n",
            "\n",
            "Presiona Enter para atacar...45\n",
            "Atacaste e hiciste 19 de daño. Vida del enemigo: 13\n",
            "El enemigo te ataca e inflige 6 de daño. Tu vida: 10\n",
            "\n",
            "Presiona Enter para atacar...\n",
            "Atacaste e hiciste 19 de daño. Vida del enemigo: 0\n",
            "¡Has vencido al enemigo!\n",
            "\n",
            "¡Felicidades! Has completado todos los niveles.\n"
          ]
        }
      ]
    },
    {
      "cell_type": "markdown",
      "source": [
        "---\n",
        "\n",
        "# Gracias por completar este laboratorio!\n",
        "\n",
        "---\n"
      ],
      "metadata": {
        "id": "EONqoa25Wlx3"
      }
    }
  ]
}