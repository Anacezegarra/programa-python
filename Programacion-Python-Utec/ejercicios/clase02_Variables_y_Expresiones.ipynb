{
  "nbformat": 4,
  "nbformat_minor": 0,
  "metadata": {
    "colab": {
      "provenance": [],
      "include_colab_link": true
    },
    "kernelspec": {
      "name": "python3",
      "display_name": "Python 3"
    },
    "language_info": {
      "name": "python"
    }
  },
  "cells": [
    {
      "cell_type": "markdown",
      "metadata": {
        "id": "view-in-github",
        "colab_type": "text"
      },
      "source": [
        "<a href=\"https://colab.research.google.com/github/Anacezegarra/programa-python/blob/main/Programacion-Python-Utec/ejercicios/clase02_Variables_y_Expresiones.ipynb\" target=\"_parent\"><img src=\"https://colab.research.google.com/assets/colab-badge.svg\" alt=\"Open In Colab\"/></a>"
      ]
    },
    {
      "cell_type": "markdown",
      "source": [
        "<img src=\"https://posgrado.utec.edu.pe/sites/default/files/2023-08/Testimonial-home-2.jpg\" alt=\"HTML5 Icon\" width=\"900\" height=\"250\" >\n"
      ],
      "metadata": {
        "id": "cqadFmlrgAXp"
      }
    },
    {
      "cell_type": "markdown",
      "source": [
        "# **Ejercicios - Variables y Expresiones**"
      ],
      "metadata": {
        "id": "tW1-ULBmb0Cm"
      }
    },
    {
      "cell_type": "markdown",
      "source": [
        "**Ejercicio 1: Calculadora de ahorro semanal**\n",
        "\n",
        "Pide al usuario cuánto dinero ahorra cada día de lunes a domingo. Al final, muestra cuánto ahorró en total esa semana y cuánto tendría en un mes si repite el mismo patrón cada semana.\n",
        "\n",
        "- Pista: Usar 7 variables (ahorro_lunes, ahorro_martes, …), input(), float(), +, *."
      ],
      "metadata": {
        "id": "9igzfvIKqNGr"
      }
    },
    {
      "cell_type": "code",
      "source": [
        "## INICIO DE CÓDIGO\n",
        "\n",
        "ahorro_lunes = float(input(\"Ingrese el monto ahorrado en Lunes: \"))\n",
        "ahorro_martes = float(input(\"Ingrese el monto ahorrado en martes: \"))\n",
        "ahorro_miercoles = float(input(\"Ingrese el monto ahorrado en miercoles: \"))\n",
        "ahorro_jueves = float(input(\"Ingrese el monto ahorrado en jueves: \"))\n",
        "ahorro_viernes = float(input(\"Ingrese el monto ahorrado en viernes: \"))\n",
        "ahorro_sabado = float(input(\"Ingrese el monto ahorrado en sabado: \"))\n",
        "ahorro_domingo = float(input(\"Ingrese el monto ahorrado en domingo: \"))\n",
        "\n",
        "ahorro_total = ahorro_lunes + ahorro_martes + ahorro_miercoles + ahorro_jueves + ahorro_viernes + ahorro_sabado + ahorro_domingo\n",
        "\n",
        "print (\"Semanalmente ahorras: \", ahorro_total)\n",
        "\n",
        "ahorro_mensual = ahorro_total * 4\n",
        "\n",
        "print (\"Mensualmente ahorras: \", ahorro_mensual)\n",
        "\n",
        "\n",
        "## FIN DE CÓDIGO"
      ],
      "metadata": {
        "id": "BX-O1-4wqWF9",
        "outputId": "5ddc9ee5-c6f4-47a1-b7f1-2c271a12f2b0",
        "colab": {
          "base_uri": "https://localhost:8080/"
        }
      },
      "execution_count": null,
      "outputs": [
        {
          "output_type": "stream",
          "name": "stdout",
          "text": [
            "Ingrese el monto ahorrado en Lunes: 3\n",
            "Ingrese el monto ahorrado en martes: 2.3\n",
            "Ingrese el monto ahorrado en miercoles: 6.5\n",
            "Ingrese el monto ahorrado en jueves: 100\n",
            "Ingrese el monto ahorrado en viernes: 45\n",
            "Ingrese el monto ahorrado en sabado: 67\n",
            "Ingrese el monto ahorrado en domingo: 230\n",
            "Semanalmente ahorras:  453.8\n",
            "Mensualmente ahorras:  1815.2\n"
          ]
        }
      ]
    },
    {
      "cell_type": "markdown",
      "source": [
        "**Ejercicio 2: Conversor de segundos**\n",
        "\n",
        "Solicita una cantidad total de segundos y muestra cuántos minutos y segundos representa.\n",
        "\n",
        "Ejemplo: 130 segundos → 2 minutos y 10 segundos\n",
        "* Pista: Usar // y %\n"
      ],
      "metadata": {
        "id": "oLaw6UggqV3E"
      }
    },
    {
      "cell_type": "code",
      "source": [
        "## INICIO DE CÓDIGO\n",
        "segundos = int(input(\"Ingrese la cantidad de segundos: \"))\n",
        "print(segundos, \"segundos equivalen a\", segundos // 60, \"minutos y\", segundos % 60, \"segundos\")\n",
        "\n",
        "## FIN DE CÓDIGO"
      ],
      "metadata": {
        "id": "bAuxBROrqaWb",
        "outputId": "11d1a57f-dd11-450d-f0d0-5159f6817cf4",
        "colab": {
          "base_uri": "https://localhost:8080/"
        }
      },
      "execution_count": null,
      "outputs": [
        {
          "output_type": "stream",
          "name": "stdout",
          "text": [
            "Ingrese la cantidad de segundos: 1765\n",
            "1765 segundos equivalen a 29 minutos y 25 segundos\n"
          ]
        }
      ]
    },
    {
      "cell_type": "markdown",
      "source": [
        "**Ejercicio 3: Puntuación de juego**\n",
        "\n",
        "Un videojuego otorga:\n",
        "\n",
        "* 10 puntos por cada estrella recolectada,\n",
        "* 50 puntos por cada gema recolectada, y\n",
        "* 1 punto por cada segundo que el jugador se mantuvo vivo.\n",
        "\n",
        "Pide al usuario las tres cantidades y muestra su puntaje total.\n",
        "\n",
        "* Pista: total = estrellas*10 + gemas*50 + tiempo"
      ],
      "metadata": {
        "id": "dK4EIGoKrW2B"
      }
    },
    {
      "cell_type": "code",
      "source": [
        "## INICIO DE CÓDIGO\n",
        "estrellas = int(input(\"Ingrese la cantidad de estrellas recolectadas: \"))\n",
        "gemas = int(input(\"Ingrese la cantidad de gemas recolectadas: \"))\n",
        "tiempo = int(input(\"Ingrese la cantidad de segundos que el jugador se mantuvo vivo: \"))\n",
        "total = estrellas*10 + gemas*50 + tiempo\n",
        "print(\"El puntaje total del jugador es:\", total)\n",
        "\n",
        "## FIN DE CÓDIGO"
      ],
      "metadata": {
        "id": "jkBQHQF1rlUY",
        "outputId": "257d010f-df12-4112-cd67-4c6959e7d73e",
        "colab": {
          "base_uri": "https://localhost:8080/"
        }
      },
      "execution_count": null,
      "outputs": [
        {
          "output_type": "stream",
          "name": "stdout",
          "text": [
            "Ingrese la cantidad de estrellas recolectadas: 7\n",
            "Ingrese la cantidad de gemas recolectadas: 80\n",
            "Ingrese la cantidad de segundos que el jugador se mantuvo vivo: 4000\n",
            "El puntaje total del jugador es: 8070\n"
          ]
        }
      ]
    },
    {
      "cell_type": "markdown",
      "source": [
        "**Ejercicio 4: Conversor de monedas con tasa personalizada**\n",
        "\n",
        "Solicita al usuario:\n",
        "\n",
        "* El monto en soles\n",
        "* La tasa de cambio a dólares\n",
        "\n",
        "Muestra el equivalente en dólares, redondeado a 2 decimales.\n",
        "\n",
        "* Pista: Usar float(), *, round(valor, 2)"
      ],
      "metadata": {
        "id": "wW9Edl_8rlt1"
      }
    },
    {
      "cell_type": "code",
      "source": [
        "## INICIO DE CÓDIGO\n",
        "monto_soles = float(input(\"Ingrese el monto en soles: \"))\n",
        "tasa_cambio = float(input(\"Ingrese la tasa de cambio a dólares: \"))\n",
        "monto_dolares = round((monto_soles / tasa_cambio), 2)\n",
        "print(\"El equivalente en dolares es: \", monto_dolares)\n",
        "\n",
        "## FIN DE CÓDIGO"
      ],
      "metadata": {
        "id": "fTCsCohHrmQW",
        "outputId": "41332723-b17f-4d0d-b26e-b62818cc501d",
        "colab": {
          "base_uri": "https://localhost:8080/"
        }
      },
      "execution_count": null,
      "outputs": [
        {
          "output_type": "stream",
          "name": "stdout",
          "text": [
            "Ingrese el monto en soles: 4563.34\n",
            "Ingrese la tasa de cambio a dólares: 3.76\n",
            "El equivalente en dolares es:  1213.65\n"
          ]
        }
      ]
    },
    {
      "cell_type": "markdown",
      "source": [
        "**Ejercicio 5: Costo compartido de viaje**\n",
        "\n",
        "Tres amigos hacen un viaje y pagan distintos montos:\n",
        "\n",
        "* Ana pagó gasolina,\n",
        "* Luis pagó peajes,\n",
        "* Carla pagó comida.\n",
        "\n",
        "Pide los tres montos, calcula el total y cuánto debería aportar cada uno para que paguen igual.\n",
        "\n",
        "* Pista: Calcular el total y luego dividirlo entre 3"
      ],
      "metadata": {
        "id": "JYUyJAidrmnT"
      }
    },
    {
      "cell_type": "code",
      "source": [
        "## INICIO DE CÓDIGO\n",
        "\n",
        "Ana = float(input(\"ingrese el monto que pago Ana: \"))\n",
        "Luis = float(input(\"ingrese el monto que pago Luis: \"))\n",
        "Carla = float(input(\"ingrese el monto que pago Carla: \"))\n",
        "\n",
        "monto_total = float(Ana + Luis + Carla)\n",
        "monto_personal = float(monto_total / 3)\n",
        "\n",
        "print(\"El monto total es: \", monto_total)\n",
        "print(\"El monto por persona es: \", round(monto_personal, 2))\n",
        "\n",
        "## FIN DE CÓDIGO"
      ],
      "metadata": {
        "id": "SGjH-m_mrom9",
        "outputId": "d209df96-3253-484d-c568-8f63f89f8f2a",
        "colab": {
          "base_uri": "https://localhost:8080/"
        }
      },
      "execution_count": null,
      "outputs": [
        {
          "output_type": "stream",
          "name": "stdout",
          "text": [
            "ingrese el monto que pago Ana: 546\n",
            "ingrese el monto que pago Luis: 756\n",
            "ingrese el monto que pago Carla: 865.34\n",
            "El monto total es:  2167.34\n",
            "El monto por persona es:  722.45\n"
          ]
        }
      ]
    },
    {
      "cell_type": "markdown",
      "source": [
        "**Ejercicio 6: Tiempo total de estudio**\n",
        "\n",
        "Solicita al usuario cuántas horas estudió en 4 materias distintas.\n",
        "\n",
        "Muestra el total de horas de estudio en la semana y el promedio diario (considerando 7 días).\n"
      ],
      "metadata": {
        "id": "skhBiCaCro5l"
      }
    },
    {
      "cell_type": "code",
      "source": [
        "## INICIO DE CÓDIGO\n",
        "Matematicas = float(input(\"Ingrese las horas en Matematicas: \"))\n",
        "Lengua = float(input(\"Ingrese las horas en Lengua: \"))\n",
        "Ingles = float(input(\"Ingrese las horas en Ingles: \"))\n",
        "Programacion = float(input(\"Ingrese las horas en Programacion: \"))\n",
        "\n",
        "total_horas = Matematicas + Lengua + Ingles + Programacion\n",
        "promedio_diario = total_horas / 7\n",
        "\n",
        "print(\"El total de horas de estudio en la semana es: \", total_horas)\n",
        "print(\"El promedio de horas de estudio por dia es: \", round(promedio_diario, 2))\n",
        "\n",
        "## FIN DE CÓDIGO"
      ],
      "metadata": {
        "id": "HnFuV1RPrqXQ",
        "outputId": "83d7ae1b-7218-4dbb-d6bf-44d1eac222da",
        "colab": {
          "base_uri": "https://localhost:8080/"
        }
      },
      "execution_count": null,
      "outputs": [
        {
          "output_type": "stream",
          "name": "stdout",
          "text": [
            "Ingrese las horas en Matematicas: 5\n",
            "Ingrese las horas en Lengua: 8\n",
            "Ingrese las horas en Ingles: 9\n",
            "Ingrese las horas en Programacion: 3\n",
            "El total de horas de estudio en la semana es:  25.0\n",
            "El promedio de horas de estudio por dia es:  3.57\n"
          ]
        }
      ]
    },
    {
      "cell_type": "markdown",
      "source": [
        "**Ejercicio 7: Nombre codificado (nivel string)**\n",
        "\n",
        "Pide al usuario su nombre completo y muestra:\n",
        "\n",
        "* La cantidad de caracteres (con len())\n",
        "* Su nombre todo en mayúsculas (.upper())\n",
        "* Su nombre todo en minúsculas (.lower())\n"
      ],
      "metadata": {
        "id": "rNjtOXKWrqs5"
      }
    },
    {
      "cell_type": "code",
      "source": [
        "## INICIO DE CÓDIGO\n",
        "nombre = input(\"Ingrese su nombre completo: \")\n",
        "print(\"La cantidad de caracteres es: \", len(nombre))\n",
        "print(\"Su nombre todo en mayusculas es: \", nombre.upper())\n",
        "print(\"Su nombre todo en minusculas es: \", nombre.lower())\n",
        "\n",
        "## FIN DE CÓDIGO"
      ],
      "metadata": {
        "id": "GnGm74GXrsL0",
        "colab": {
          "base_uri": "https://localhost:8080/"
        },
        "outputId": "f7537531-e19e-4854-a45f-5053971fdf5c"
      },
      "execution_count": null,
      "outputs": [
        {
          "output_type": "stream",
          "name": "stdout",
          "text": [
            "Ingrese su nombre completo: ana ceciliA ZeGarrA\n",
            "La cantidad de caracteres es:  19\n",
            "Su nombre todo en mayusculas es:  ANA CECILIA ZEGARRA\n",
            "Su nombre todo en minusculas es:  ana cecilia zegarra\n"
          ]
        }
      ]
    },
    {
      "cell_type": "markdown",
      "source": [
        "**Ejercicio 8: Frase repetida**\n",
        "\n",
        "Pide una frase y un número n, y muestra la frase repetida n veces, cada una en una línea.\n",
        "\n",
        "* Pista: print(frase * n)  # y/o con '\\n'"
      ],
      "metadata": {
        "id": "lrhPyjmWrse2"
      }
    },
    {
      "cell_type": "code",
      "source": [
        "## INICIO DE CÓDIGO\n",
        "frase = input(\"Ingrese una frase: \")\n",
        "n = int(input(\"Ingrese un numero: \"))\n",
        "print((frase + '\\n') * n)\n",
        "## FIN DE CÓDIGO"
      ],
      "metadata": {
        "id": "Vzef3t_Lru0p",
        "colab": {
          "base_uri": "https://localhost:8080/"
        },
        "outputId": "d8569d7f-ee71-4ed2-a7d2-9fb5faa5affb"
      },
      "execution_count": null,
      "outputs": [
        {
          "output_type": "stream",
          "name": "stdout",
          "text": [
            "Ingrese una frase: cual es la verdadera tarea?\n",
            "Ingrese un numero: 3\n",
            "cual es la verdadera tarea?\n",
            "cual es la verdadera tarea?\n",
            "cual es la verdadera tarea?\n",
            "\n"
          ]
        }
      ]
    },
    {
      "cell_type": "markdown",
      "source": [
        "**Ejercicio 9: División de cuentas**\n",
        "\n",
        "Un grupo de amigos pide una cuenta por S/ 250.\n",
        "Pide al usuario cuántas personas están en el grupo y muestra cuánto debe pagar cada uno.\n",
        "\n",
        "Asegúrate de redondear el resultado a 2 decimales.\n",
        "\n",
        "* Pista: Usa la funcion round()"
      ],
      "metadata": {
        "id": "5NpbbGR_rvNH"
      }
    },
    {
      "cell_type": "code",
      "source": [
        "## INICIO DE CÓDIGO\n",
        "nro_personas = int(input(\"Cuantas personas hay en el grupo: \"))\n",
        "cuenta_total = 250\n",
        "\n",
        "pago_personal = round( cuenta_total / nro_personas , 2)\n",
        "print(\"El pago por persona es: \", pago_personal)\n",
        "\n",
        "## FIN DE CÓDIGO"
      ],
      "metadata": {
        "id": "uMxuVCUVrvj6",
        "colab": {
          "base_uri": "https://localhost:8080/"
        },
        "outputId": "591ce5f0-7c9d-4acd-9867-e08c0aedd78a"
      },
      "execution_count": null,
      "outputs": [
        {
          "output_type": "stream",
          "name": "stdout",
          "text": [
            "Cuantas personas hay en el grupo: 14\n",
            "El pago por persona es:  17.86\n"
          ]
        }
      ]
    },
    {
      "cell_type": "markdown",
      "source": [
        "**Ejercicio 10: Calendario de clases**\n",
        "\n",
        "Pide cuántas horas se estudia en promedio por día, y cuántos días tiene el mes.\n",
        "\n",
        "Calcula cuántas horas de estudio habrá ese mes."
      ],
      "metadata": {
        "id": "p3PYp0l4pxuI"
      }
    },
    {
      "cell_type": "code",
      "source": [
        "## INICIO DE CÓDIGO\n",
        "horas_diarias = float(input(\"Cuantas horas estudia por dia: \"))\n",
        "dias_mes = 30\n",
        "\n",
        "horas_mensuales = horas_diarias * dias_mes\n",
        "print(\"El total de horas de estudio al mes es: \" , horas_mensuales)\n",
        "\n",
        "## FIN DE CÓDIGO"
      ],
      "metadata": {
        "id": "y1bXFffhrxk2",
        "colab": {
          "base_uri": "https://localhost:8080/"
        },
        "outputId": "ceee1600-692a-49aa-9299-d6290d29b1f4"
      },
      "execution_count": null,
      "outputs": [
        {
          "output_type": "stream",
          "name": "stdout",
          "text": [
            "Cuantas horas estudia por dia: 7\n",
            "El total de horas de estudio al mes es:  210.0\n"
          ]
        }
      ]
    },
    {
      "cell_type": "markdown",
      "source": [
        "---\n",
        "\n",
        "# Gracias por completar este laboratorio!\n",
        "\n",
        "---\n"
      ],
      "metadata": {
        "id": "8_ZocYoOrx3Z"
      }
    }
  ]
}